{
  "nbformat": 4,
  "nbformat_minor": 0,
  "metadata": {
    "colab": {
      "name": "logistic-regression-classifier.ipynb",
      "provenance": []
    },
    "kernelspec": {
      "name": "python3",
      "display_name": "Python 3"
    },
    "accelerator": "GPU"
  },
  "cells": [
    {
      "cell_type": "code",
      "metadata": {
        "id": "-6STzAwPyKIm",
        "colab_type": "code",
        "colab": {}
      },
      "source": [
        "import torch\n",
        "import torchvision\n",
        "import numpy as np"
      ],
      "execution_count": 0,
      "outputs": []
    },
    {
      "cell_type": "code",
      "metadata": {
        "id": "YxXtYM6MyM9f",
        "colab_type": "code",
        "colab": {}
      },
      "source": [
        "from torchvision.datasets import MNIST"
      ],
      "execution_count": 0,
      "outputs": []
    },
    {
      "cell_type": "code",
      "metadata": {
        "id": "oe-O-9DdzKyr",
        "colab_type": "code",
        "colab": {
          "base_uri": "https://localhost:8080/",
          "height": 280
        },
        "outputId": "eb8d2c5c-ea19-478d-b368-8e72cf340b2b"
      },
      "source": [
        "dataset = MNIST(root='data/', download=True)"
      ],
      "execution_count": 3,
      "outputs": [
        {
          "output_type": "stream",
          "text": [
            "  0%|          | 0/9912422 [00:00<?, ?it/s]"
          ],
          "name": "stderr"
        },
        {
          "output_type": "stream",
          "text": [
            "Downloading http://yann.lecun.com/exdb/mnist/train-images-idx3-ubyte.gz to data/MNIST/raw/train-images-idx3-ubyte.gz\n"
          ],
          "name": "stdout"
        },
        {
          "output_type": "stream",
          "text": [
            "9920512it [00:00, 18572549.69it/s]                            \n"
          ],
          "name": "stderr"
        },
        {
          "output_type": "stream",
          "text": [
            "Extracting data/MNIST/raw/train-images-idx3-ubyte.gz to data/MNIST/raw\n"
          ],
          "name": "stdout"
        },
        {
          "output_type": "stream",
          "text": [
            "32768it [00:00, 278070.15it/s]                           \n",
            "0it [00:00, ?it/s]"
          ],
          "name": "stderr"
        },
        {
          "output_type": "stream",
          "text": [
            "Downloading http://yann.lecun.com/exdb/mnist/train-labels-idx1-ubyte.gz to data/MNIST/raw/train-labels-idx1-ubyte.gz\n",
            "Extracting data/MNIST/raw/train-labels-idx1-ubyte.gz to data/MNIST/raw\n",
            "Downloading http://yann.lecun.com/exdb/mnist/t10k-images-idx3-ubyte.gz to data/MNIST/raw/t10k-images-idx3-ubyte.gz\n"
          ],
          "name": "stdout"
        },
        {
          "output_type": "stream",
          "text": [
            "1654784it [00:00, 5092778.09it/s]                           \n",
            "8192it [00:00, 113562.64it/s]\n"
          ],
          "name": "stderr"
        },
        {
          "output_type": "stream",
          "text": [
            "Extracting data/MNIST/raw/t10k-images-idx3-ubyte.gz to data/MNIST/raw\n",
            "Downloading http://yann.lecun.com/exdb/mnist/t10k-labels-idx1-ubyte.gz to data/MNIST/raw/t10k-labels-idx1-ubyte.gz\n",
            "Extracting data/MNIST/raw/t10k-labels-idx1-ubyte.gz to data/MNIST/raw\n",
            "Processing...\n",
            "Done!\n"
          ],
          "name": "stdout"
        }
      ]
    },
    {
      "cell_type": "code",
      "metadata": {
        "id": "B89M-SUVzYUG",
        "colab_type": "code",
        "colab": {}
      },
      "source": [
        "test_dataset = MNIST(root='data/', train=False)"
      ],
      "execution_count": 0,
      "outputs": []
    },
    {
      "cell_type": "code",
      "metadata": {
        "id": "XrQ86kLjzk_F",
        "colab_type": "code",
        "colab": {}
      },
      "source": [
        "import matplotlib.pyplot as plt\n",
        "%matplotlib inline"
      ],
      "execution_count": 0,
      "outputs": []
    },
    {
      "cell_type": "code",
      "metadata": {
        "id": "7qRML9q3zrzd",
        "colab_type": "code",
        "colab": {
          "base_uri": "https://localhost:8080/",
          "height": 34
        },
        "outputId": "f50f065f-a1bf-4668-92f2-4e6f26fe5d68"
      },
      "source": [
        "print(type(dataset[0]))"
      ],
      "execution_count": 6,
      "outputs": [
        {
          "output_type": "stream",
          "text": [
            "<class 'tuple'>\n"
          ],
          "name": "stdout"
        }
      ]
    },
    {
      "cell_type": "code",
      "metadata": {
        "id": "Fw8j5C6szvZQ",
        "colab_type": "code",
        "colab": {}
      },
      "source": [
        "img, label = dataset[0]"
      ],
      "execution_count": 0,
      "outputs": []
    },
    {
      "cell_type": "code",
      "metadata": {
        "id": "8W0jt9dxz127",
        "colab_type": "code",
        "colab": {
          "base_uri": "https://localhost:8080/",
          "height": 286
        },
        "outputId": "14ed6727-5f45-4231-9807-58e7c1aa5f9c"
      },
      "source": [
        "plt.imshow(img);\n",
        "print(label)"
      ],
      "execution_count": 13,
      "outputs": [
        {
          "output_type": "stream",
          "text": [
            "5\n"
          ],
          "name": "stdout"
        },
        {
          "output_type": "display_data",
          "data": {
            "image/png": "[encoded data removed]",
            "text/plain": [
              "<Figure size 432x288 with 1 Axes>"
            ]
          },
          "metadata": {
            "tags": []
          }
        }
      ]
    },
    {
      "cell_type": "code",
      "metadata": {
        "id": "SAZoQN0l0ImE",
        "colab_type": "code",
        "colab": {}
      },
      "source": [
        "import torchvision.transforms as transform"
      ],
      "execution_count": 0,
      "outputs": []
    },
    {
      "cell_type": "code",
      "metadata": {
        "id": "Wo1fSAHx0UHc",
        "colab_type": "code",
        "colab": {}
      },
      "source": [
        "dataset = MNIST(root='data/', train=True, transform=transform.ToTensor())"
      ],
      "execution_count": 0,
      "outputs": []
    },
    {
      "cell_type": "code",
      "metadata": {
        "id": "Xlti-7PD0hTT",
        "colab_type": "code",
        "colab": {
          "base_uri": "https://localhost:8080/",
          "height": 34
        },
        "outputId": "b8e9db30-df0c-4c9e-b292-86896c71c7c2"
      },
      "source": [
        "type(dataset[0][0])"
      ],
      "execution_count": 17,
      "outputs": [
        {
          "output_type": "execute_result",
          "data": {
            "text/plain": [
              "torch.Tensor"
            ]
          },
          "metadata": {
            "tags": []
          },
          "execution_count": 17
        }
      ]
    },
    {
      "cell_type": "code",
      "metadata": {
        "id": "kHilGMLs0iet",
        "colab_type": "code",
        "colab": {}
      },
      "source": [
        "img_tensor, label = dataset[0]"
      ],
      "execution_count": 0,
      "outputs": []
    },
    {
      "cell_type": "code",
      "metadata": {
        "id": "AjHo8fGa1Njp",
        "colab_type": "code",
        "colab": {
          "base_uri": "https://localhost:8080/",
          "height": 34
        },
        "outputId": "e839ce05-fbca-4c1c-f2bd-07960314ccf0"
      },
      "source": [
        "img_tensor.shape"
      ],
      "execution_count": 22,
      "outputs": [
        {
          "output_type": "execute_result",
          "data": {
            "text/plain": [
              "torch.Size([1, 28, 28])"
            ]
          },
          "metadata": {
            "tags": []
          },
          "execution_count": 22
        }
      ]
    },
    {
      "cell_type": "code",
      "metadata": {
        "id": "AvfNAUKI1J4X",
        "colab_type": "code",
        "colab": {
          "base_uri": "https://localhost:8080/",
          "height": 286
        },
        "outputId": "0fefa9e4-b195-4b04-bee2-ae01c773ec8e"
      },
      "source": [
        "plt.imshow(img_tensor[0])"
      ],
      "execution_count": 24,
      "outputs": [
        {
          "output_type": "execute_result",
          "data": {
            "text/plain": [
              "<matplotlib.image.AxesImage at 0x7f452a32e5f8>"
            ]
          },
          "metadata": {
            "tags": []
          },
          "execution_count": 24
        },
        {
          "output_type": "display_data",
          "data": {
            "image/png": "[encoded data removed]",
            "text/plain": [
              "<Figure size 432x288 with 1 Axes>"
            ]
          },
          "metadata": {
            "tags": []
          }
        }
      ]
    },
    {
      "cell_type": "code",
      "metadata": {
        "id": "kRDAo5ux1MDv",
        "colab_type": "code",
        "colab": {}
      },
      "source": [
        "def split_indices(n, val_pct):\n",
        "  n_val = int(n*val_pct)\n",
        "  idx = torch.randperm(n)\n",
        "  \n",
        "  return idx[n_val:], idx[:n_val]"
      ],
      "execution_count": 0,
      "outputs": []
    },
    {
      "cell_type": "code",
      "metadata": {
        "id": "CNVmeXBi2Xl0",
        "colab_type": "code",
        "colab": {}
      },
      "source": [
        "train_indices, val_indices = split_indices(len(dataset), 0.2)"
      ],
      "execution_count": 0,
      "outputs": []
    },
    {
      "cell_type": "code",
      "metadata": {
        "id": "ph_s2IUH2ZTE",
        "colab_type": "code",
        "colab": {
          "base_uri": "https://localhost:8080/",
          "height": 34
        },
        "outputId": "a1da912d-2962-41f5-de08-ac357f35f9d5"
      },
      "source": [
        "len(train_indices)"
      ],
      "execution_count": 29,
      "outputs": [
        {
          "output_type": "execute_result",
          "data": {
            "text/plain": [
              "48000"
            ]
          },
          "metadata": {
            "tags": []
          },
          "execution_count": 29
        }
      ]
    },
    {
      "cell_type": "code",
      "metadata": {
        "id": "ehe2yewT3Hkw",
        "colab_type": "code",
        "colab": {}
      },
      "source": [
        "from torch.utils.data.sampler import SubsetRandomSampler\n",
        "from torch.utils.data import DataLoader"
      ],
      "execution_count": 0,
      "outputs": []
    },
    {
      "cell_type": "code",
      "metadata": {
        "id": "Ri5obdtl3yGt",
        "colab_type": "code",
        "colab": {}
      },
      "source": [
        "batch_size = 128"
      ],
      "execution_count": 0,
      "outputs": []
    },
    {
      "cell_type": "code",
      "metadata": {
        "id": "AzOg0GOd3apG",
        "colab_type": "code",
        "colab": {}
      },
      "source": [
        "train_sampler = SubsetRandomSampler(train_indices)\n",
        "train_loader = DataLoader(dataset = dataset,batch_size=batch_size, sampler=train_sampler)"
      ],
      "execution_count": 0,
      "outputs": []
    },
    {
      "cell_type": "code",
      "metadata": {
        "id": "KLHF11S44HEE",
        "colab_type": "code",
        "colab": {}
      },
      "source": [
        "val_sampler = SubsetRandomSampler(val_indices)\n",
        "val_loader = DataLoader(dataset = dataset,batch_size=batch_size, sampler=val_sampler)"
      ],
      "execution_count": 0,
      "outputs": []
    },
    {
      "cell_type": "markdown",
      "metadata": {
        "id": "MVCtdt_24pVN",
        "colab_type": "text"
      },
      "source": [
        "## Model Creation"
      ]
    },
    {
      "cell_type": "code",
      "metadata": {
        "id": "DO2UStaW4Nwx",
        "colab_type": "code",
        "colab": {}
      },
      "source": [
        "import torch.nn as nn"
      ],
      "execution_count": 0,
      "outputs": []
    },
    {
      "cell_type": "code",
      "metadata": {
        "id": "ZZZlcH8c4sQ-",
        "colab_type": "code",
        "colab": {}
      },
      "source": [
        "input_size = 28*28\n",
        "num_classes = 10"
      ],
      "execution_count": 0,
      "outputs": []
    },
    {
      "cell_type": "code",
      "metadata": {
        "id": "OK96Sebs5vhu",
        "colab_type": "code",
        "colab": {}
      },
      "source": [
        "model = nn.Linear(input_size, num_classes)"
      ],
      "execution_count": 0,
      "outputs": []
    },
    {
      "cell_type": "code",
      "metadata": {
        "id": "facPMUYL6Lpo",
        "colab_type": "code",
        "colab": {
          "base_uri": "https://localhost:8080/",
          "height": 34
        },
        "outputId": "beb13908-33fb-492b-f27a-a9e70e20cb22"
      },
      "source": [
        "model.weight.shape"
      ],
      "execution_count": 41,
      "outputs": [
        {
          "output_type": "execute_result",
          "data": {
            "text/plain": [
              "torch.Size([10, 784])"
            ]
          },
          "metadata": {
            "tags": []
          },
          "execution_count": 41
        }
      ]
    },
    {
      "cell_type": "code",
      "metadata": {
        "id": "61ScNO906QdO",
        "colab_type": "code",
        "colab": {
          "base_uri": "https://localhost:8080/",
          "height": 34
        },
        "outputId": "371c1b8f-ee72-4169-9144-10091a0c4314"
      },
      "source": [
        "model.bias.shape"
      ],
      "execution_count": 42,
      "outputs": [
        {
          "output_type": "execute_result",
          "data": {
            "text/plain": [
              "torch.Size([10])"
            ]
          },
          "metadata": {
            "tags": []
          },
          "execution_count": 42
        }
      ]
    },
    {
      "cell_type": "code",
      "metadata": {
        "id": "Olfg4Q0k6aH4",
        "colab_type": "code",
        "colab": {}
      },
      "source": [
        "class MnistModel(nn.Module):\n",
        "    def __init__(self):\n",
        "        super().__init__()\n",
        "        self.linear = nn.Linear(input_size, num_classes)\n",
        "        \n",
        "    def forward(self, xb):\n",
        "        xb = torch.reshape(xb, (-1, 784))\n",
        "        out = self.linear(xb)\n",
        "        return out"
      ],
      "execution_count": 0,
      "outputs": []
    },
    {
      "cell_type": "code",
      "metadata": {
        "id": "cLdVIqt96iYR",
        "colab_type": "code",
        "colab": {}
      },
      "source": [
        "model = MnistModel()"
      ],
      "execution_count": 0,
      "outputs": []
    },
    {
      "cell_type": "code",
      "metadata": {
        "id": "-8foDOrQ9A5w",
        "colab_type": "code",
        "colab": {}
      },
      "source": [
        "for img, labels in train_loader:\n",
        "  outputs = model(img)\n",
        "  break"
      ],
      "execution_count": 0,
      "outputs": []
    },
    {
      "cell_type": "code",
      "metadata": {
        "id": "1EHhJwFn9BzF",
        "colab_type": "code",
        "colab": {
          "base_uri": "https://localhost:8080/",
          "height": 34
        },
        "outputId": "375cb579-b890-4dbb-a501-798723b4468e"
      },
      "source": [
        "outputs.shape"
      ],
      "execution_count": 124,
      "outputs": [
        {
          "output_type": "execute_result",
          "data": {
            "text/plain": [
              "torch.Size([128, 10])"
            ]
          },
          "metadata": {
            "tags": []
          },
          "execution_count": 124
        }
      ]
    },
    {
      "cell_type": "code",
      "metadata": {
        "id": "ImStA5Sr8MUy",
        "colab_type": "code",
        "colab": {}
      },
      "source": [
        "import torch.nn.functional as f"
      ],
      "execution_count": 0,
      "outputs": []
    },
    {
      "cell_type": "code",
      "metadata": {
        "id": "Qs-BXrfP81yR",
        "colab_type": "code",
        "colab": {}
      },
      "source": [
        "probs = f.softmax(outputs, dim=1)"
      ],
      "execution_count": 0,
      "outputs": []
    },
    {
      "cell_type": "code",
      "metadata": {
        "id": "FSQT1-et9TsO",
        "colab_type": "code",
        "colab": {}
      },
      "source": [
        "max_probs, pred = torch.max(probs, dim =1)"
      ],
      "execution_count": 0,
      "outputs": []
    },
    {
      "cell_type": "code",
      "metadata": {
        "id": "s1gfxbl79UeY",
        "colab_type": "code",
        "colab": {
          "base_uri": "https://localhost:8080/",
          "height": 121
        },
        "outputId": "c0e144cf-bfc8-4944-e74a-59cb1d134088"
      },
      "source": [
        "pred"
      ],
      "execution_count": 128,
      "outputs": [
        {
          "output_type": "execute_result",
          "data": {
            "text/plain": [
              "tensor([5, 5, 8, 6, 7, 6, 4, 7, 6, 6, 8, 7, 8, 5, 8, 8, 3, 6, 8, 8, 6, 2, 8, 6,\n",
              "        6, 8, 5, 8, 5, 5, 2, 8, 8, 5, 2, 4, 9, 8, 6, 0, 7, 2, 8, 6, 6, 8, 8, 2,\n",
              "        7, 6, 8, 9, 8, 0, 5, 4, 6, 8, 9, 9, 6, 6, 8, 7, 5, 6, 5, 8, 0, 0, 6, 7,\n",
              "        5, 6, 2, 2, 8, 8, 5, 2, 4, 6, 8, 8, 6, 6, 0, 6, 6, 2, 5, 6, 6, 2, 6, 6,\n",
              "        8, 8, 7, 2, 5, 2, 6, 6, 6, 6, 8, 5, 8, 6, 2, 6, 5, 8, 6, 4, 6, 5, 6, 0,\n",
              "        6, 8, 6, 6, 8, 6, 5, 5])"
            ]
          },
          "metadata": {
            "tags": []
          },
          "execution_count": 128
        }
      ]
    },
    {
      "cell_type": "code",
      "metadata": {
        "id": "iH8m5Ju49w-O",
        "colab_type": "code",
        "colab": {}
      },
      "source": [
        "def accuracy(l1, l2):\n",
        "  \n",
        "  return torch.sum(l1==l2).item()/len(l1)"
      ],
      "execution_count": 0,
      "outputs": []
    },
    {
      "cell_type": "code",
      "metadata": {
        "id": "OuhvJiT494AA",
        "colab_type": "code",
        "colab": {
          "base_uri": "https://localhost:8080/",
          "height": 34
        },
        "outputId": "414f5e41-6f5e-463e-b5b5-d4490c2fffa2"
      },
      "source": [
        "accuracy(pred, labels)"
      ],
      "execution_count": 130,
      "outputs": [
        {
          "output_type": "execute_result",
          "data": {
            "text/plain": [
              "0.09375"
            ]
          },
          "metadata": {
            "tags": []
          },
          "execution_count": 130
        }
      ]
    },
    {
      "cell_type": "code",
      "metadata": {
        "id": "psQGCapN96N6",
        "colab_type": "code",
        "colab": {}
      },
      "source": [
        "loss_fn =  f.cross_entropy"
      ],
      "execution_count": 0,
      "outputs": []
    },
    {
      "cell_type": "code",
      "metadata": {
        "id": "GFbATsfH_VhT",
        "colab_type": "code",
        "colab": {}
      },
      "source": [
        "loss = loss_fn(outputs, labels)"
      ],
      "execution_count": 0,
      "outputs": []
    },
    {
      "cell_type": "code",
      "metadata": {
        "id": "8yeeKmF8_Y23",
        "colab_type": "code",
        "colab": {
          "base_uri": "https://localhost:8080/",
          "height": 34
        },
        "outputId": "238fe3ec-bc22-4df0-c96b-150284bff3c3"
      },
      "source": [
        "loss"
      ],
      "execution_count": 133,
      "outputs": [
        {
          "output_type": "execute_result",
          "data": {
            "text/plain": [
              "tensor(2.3288, grad_fn=<NllLossBackward>)"
            ]
          },
          "metadata": {
            "tags": []
          },
          "execution_count": 133
        }
      ]
    },
    {
      "cell_type": "code",
      "metadata": {
        "id": "zISj9rIc_c6K",
        "colab_type": "code",
        "colab": {}
      },
      "source": [
        "learning_rate = 0.001"
      ],
      "execution_count": 0,
      "outputs": []
    },
    {
      "cell_type": "code",
      "metadata": {
        "id": "SDbmVLfx_zTm",
        "colab_type": "code",
        "colab": {}
      },
      "source": [
        "optimizer = torch.optim.SGD(model.parameters(), lr=learning_rate)"
      ],
      "execution_count": 0,
      "outputs": []
    },
    {
      "cell_type": "code",
      "metadata": {
        "id": "_IJnGV6T_-e1",
        "colab_type": "code",
        "colab": {}
      },
      "source": [
        "def loss_batch(model, loss_func, xb, yb, opt=None, metric=None):\n",
        "    # Calculate loss\n",
        "    preds = model(xb)\n",
        "    loss = loss_func(preds, yb)\n",
        "                     \n",
        "    if opt is not None:\n",
        "        # Compute gradients\n",
        "        loss.backward()\n",
        "        # Update parameters             \n",
        "        opt.step()\n",
        "        # Reset gradients\n",
        "        opt.zero_grad()\n",
        "    \n",
        "    metric_result = None\n",
        "    if metric is not None:\n",
        "        # Compute the metric\n",
        "        metric_result = metric(preds, yb)\n",
        "    \n",
        "    return loss.item(), len(xb), metric_result"
      ],
      "execution_count": 0,
      "outputs": []
    },
    {
      "cell_type": "code",
      "metadata": {
        "id": "HE5zkBtLBYYV",
        "colab_type": "code",
        "colab": {}
      },
      "source": [
        "def evaluate(model, loss_fn, valid_dl, metric=None):\n",
        "    with torch.no_grad():\n",
        "        # Pass each batch through the model\n",
        "        results = [loss_batch(model, loss_fn, xb, yb, metric=metric)\n",
        "                   for xb,yb in valid_dl]\n",
        "        # Separate losses, counts and metrics\n",
        "        losses, nums, metrics = zip(*results)\n",
        "        # Total size of the dataset\n",
        "        total = np.sum(nums)\n",
        "        # Avg. loss across batches \n",
        "        avg_loss = np.sum(np.multiply(losses, nums)) / total\n",
        "        avg_metric = None\n",
        "        if metric is not None:\n",
        "            # Avg. of metric across batches\n",
        "            avg_metric = np.sum(np.multiply(metrics, nums)) / total\n",
        "    return avg_loss, total, avg_metric"
      ],
      "execution_count": 0,
      "outputs": []
    },
    {
      "cell_type": "code",
      "metadata": {
        "id": "vcFnfI1pDS5O",
        "colab_type": "code",
        "colab": {}
      },
      "source": [
        "def accuracy(outputs, labels):\n",
        "    _, preds = torch.max(outputs, dim=1)\n",
        "    return torch.sum(preds == labels).item() / len(preds)"
      ],
      "execution_count": 0,
      "outputs": []
    },
    {
      "cell_type": "code",
      "metadata": {
        "id": "2fzfe-qZDsUp",
        "colab_type": "code",
        "colab": {
          "base_uri": "https://localhost:8080/",
          "height": 34
        },
        "outputId": "f9953f07-6253-42f9-d768-3d0eaa10e340"
      },
      "source": [
        "val_loss, total, val_acc = evaluate(model, loss_fn, val_loader, metric=accuracy)\n",
        "print('Loss: {:.4f}, Accuracy: {:.4f}'.format(val_loss, val_acc))"
      ],
      "execution_count": 146,
      "outputs": [
        {
          "output_type": "stream",
          "text": [
            "Loss: 2.3408, Accuracy: 0.0777\n"
          ],
          "name": "stdout"
        }
      ]
    },
    {
      "cell_type": "code",
      "metadata": {
        "id": "wWTgHS2PDt5N",
        "colab_type": "code",
        "colab": {}
      },
      "source": [
        "def fit(epochs, model, loss_fn, opt, train_dl, valid_dl, metric=None):\n",
        "    for epoch in range(epochs):\n",
        "        # Training\n",
        "        for xb,yb in train_dl:\n",
        "            loss,_,_ = loss_batch(model, loss_fn, xb, yb, opt)\n",
        "\n",
        "        # Evaluation\n",
        "        result = evaluate(model, loss_fn, valid_dl, metric)\n",
        "        val_loss, total, val_metric = result\n",
        "        \n",
        "        # Print progress\n",
        "        if metric is None:\n",
        "            print('Epoch [{}/{}], Loss: {:.4f}'\n",
        "                  .format(epoch+1, epochs, val_loss))\n",
        "        else:\n",
        "            print('Epoch [{}/{}], Loss: {:.4f}, {}: {:.4f}'\n",
        "                  .format(epoch+1, epochs, val_loss, metric.__name__, val_metric))"
      ],
      "execution_count": 0,
      "outputs": []
    },
    {
      "cell_type": "code",
      "metadata": {
        "id": "YYLmoN_5EGau",
        "colab_type": "code",
        "colab": {}
      },
      "source": [
        "# Redifine model and optimizer\n",
        "model = MnistModel()\n",
        "optimizer = torch.optim.SGD(model.parameters(), lr=learning_rate)"
      ],
      "execution_count": 0,
      "outputs": []
    },
    {
      "cell_type": "code",
      "metadata": {
        "id": "MbvZPZ1-EIXf",
        "colab_type": "code",
        "colab": {
          "base_uri": "https://localhost:8080/",
          "height": 364
        },
        "outputId": "25f78b82-4213-4856-ba2d-3dd461fc6707"
      },
      "source": [
        "fit(20, model, f.cross_entropy, optimizer, train_loader, val_loader, accuracy)"
      ],
      "execution_count": 150,
      "outputs": [
        {
          "output_type": "stream",
          "text": [
            "Epoch [1/20], Loss: 0.6658, accuracy: 0.8528\n",
            "Epoch [2/20], Loss: 0.6540, accuracy: 0.8541\n",
            "Epoch [3/20], Loss: 0.6431, accuracy: 0.8548\n",
            "Epoch [4/20], Loss: 0.6329, accuracy: 0.8561\n",
            "Epoch [5/20], Loss: 0.6234, accuracy: 0.8568\n",
            "Epoch [6/20], Loss: 0.6145, accuracy: 0.8580\n",
            "Epoch [7/20], Loss: 0.6062, accuracy: 0.8590\n",
            "Epoch [8/20], Loss: 0.5984, accuracy: 0.8596\n",
            "Epoch [9/20], Loss: 0.5911, accuracy: 0.8608\n",
            "Epoch [10/20], Loss: 0.5841, accuracy: 0.8619\n",
            "Epoch [11/20], Loss: 0.5776, accuracy: 0.8630\n",
            "Epoch [12/20], Loss: 0.5713, accuracy: 0.8639\n",
            "Epoch [13/20], Loss: 0.5654, accuracy: 0.8648\n",
            "Epoch [14/20], Loss: 0.5598, accuracy: 0.8652\n",
            "Epoch [15/20], Loss: 0.5544, accuracy: 0.8663\n",
            "Epoch [16/20], Loss: 0.5493, accuracy: 0.8672\n",
            "Epoch [17/20], Loss: 0.5445, accuracy: 0.8678\n",
            "Epoch [18/20], Loss: 0.5398, accuracy: 0.8681\n",
            "Epoch [19/20], Loss: 0.5353, accuracy: 0.8686\n",
            "Epoch [20/20], Loss: 0.5311, accuracy: 0.8696\n"
          ],
          "name": "stdout"
        }
      ]
    },
    {
      "cell_type": "code",
      "metadata": {
        "id": "0eNNLAgAEMxe",
        "colab_type": "code",
        "colab": {
          "base_uri": "https://localhost:8080/",
          "height": 167
        },
        "outputId": "86c4426a-b9d1-4f54-d020-6a0018ee2f62"
      },
      "source": [
        ""
      ],
      "execution_count": 120,
      "outputs": [
        {
          "output_type": "error",
          "ename": "NameError",
          "evalue": "ignored",
          "traceback": [
            "\u001b[0;31m---------------------------------------------------------------------------\u001b[0m",
            "\u001b[0;31mNameError\u001b[0m                                 Traceback (most recent call last)",
            "\u001b[0;32m<ipython-input-120-4f8f4e21bb4d>\u001b[0m in \u001b[0;36m<module>\u001b[0;34m()\u001b[0m\n\u001b[0;32m----> 1\u001b[0;31m \u001b[0mtorch\u001b[0m\u001b[0;34m.\u001b[0m\u001b[0mreshape\u001b[0m\u001b[0;34m(\u001b[0m\u001b[0mxb\u001b[0m\u001b[0;34m,\u001b[0m \u001b[0;34m(\u001b[0m\u001b[0;34m-\u001b[0m\u001b[0;36m1\u001b[0m\u001b[0;34m,\u001b[0m \u001b[0;36m784\u001b[0m\u001b[0;34m)\u001b[0m\u001b[0;34m)\u001b[0m\u001b[0;34m\u001b[0m\u001b[0;34m\u001b[0m\u001b[0m\n\u001b[0m",
            "\u001b[0;31mNameError\u001b[0m: name 'xb' is not defined"
          ]
        }
      ]
    },
    {
      "cell_type": "code",
      "metadata": {
        "id": "8xLs8KhUFuka",
        "colab_type": "code",
        "colab": {}
      },
      "source": [
        ""
      ],
      "execution_count": 0,
      "outputs": []
    }
  ]
}