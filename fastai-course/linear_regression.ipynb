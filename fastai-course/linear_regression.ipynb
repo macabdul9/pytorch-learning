{
  "nbformat": 4,
  "nbformat_minor": 0,
  "metadata": {
    "colab": {
      "name": "linear-regression.ipynb",
      "provenance": []
    },
    "kernelspec": {
      "name": "python3",
      "display_name": "Python 3"
    },
    "accelerator": "GPU"
  },
  "cells": [
    {
      "cell_type": "code",
      "metadata": {
        "id": "ckXFONY7JZGO",
        "colab_type": "code",
        "colab": {}
      },
      "source": [
        "import torch\n",
        "import numpy as np"
      ],
      "execution_count": 0,
      "outputs": []
    },
    {
      "cell_type": "code",
      "metadata": {
        "id": "qdZGlsKRIMNb",
        "colab_type": "code",
        "colab": {}
      },
      "source": [
        "inputs = np.array([[73, 67, 43], \n",
        "                   [91, 88, 64], \n",
        "                   [87, 134, 58], \n",
        "                   [102, 43, 37], \n",
        "                   [69, 96, 70]], dtype='float32')\n"
      ],
      "execution_count": 0,
      "outputs": []
    },
    {
      "cell_type": "code",
      "metadata": {
        "id": "T9B0kjfgIVUM",
        "colab_type": "code",
        "colab": {}
      },
      "source": [
        "# Targets (apples, oranges)\n",
        "targets = np.array([[56, 70], \n",
        "                    [81, 101], \n",
        "                    [119, 133], \n",
        "                    [22, 37], \n",
        "                    [103, 119]], dtype='float32')\n"
      ],
      "execution_count": 0,
      "outputs": []
    },
    {
      "cell_type": "code",
      "metadata": {
        "id": "el3520ZnIY3f",
        "colab_type": "code",
        "colab": {}
      },
      "source": [
        "inputs = torch.from_numpy(inputs)\n",
        "targets = torch.from_numpy(targets)"
      ],
      "execution_count": 0,
      "outputs": []
    },
    {
      "cell_type": "code",
      "metadata": {
        "id": "dCrm8OtEIfCC",
        "colab_type": "code",
        "colab": {
          "base_uri": "https://localhost:8080/",
          "height": 34
        },
        "outputId": "d67042f1-66a8-4949-c321-83f880eda1f1"
      },
      "source": [
        "print(inputs.shape, targets.shape)"
      ],
      "execution_count": 40,
      "outputs": [
        {
          "output_type": "stream",
          "text": [
            "torch.Size([5, 3]) torch.Size([5, 2])\n"
          ],
          "name": "stdout"
        }
      ]
    },
    {
      "cell_type": "code",
      "metadata": {
        "id": "OqUCI6oSIltY",
        "colab_type": "code",
        "colab": {}
      },
      "source": [
        "from torch.autograd import Variable"
      ],
      "execution_count": 0,
      "outputs": []
    },
    {
      "cell_type": "code",
      "metadata": {
        "id": "9XohnTH-IvBi",
        "colab_type": "code",
        "colab": {}
      },
      "source": [
        "x = Variable(inputs)\n",
        "y = Variable(targets)"
      ],
      "execution_count": 0,
      "outputs": []
    },
    {
      "cell_type": "code",
      "metadata": {
        "id": "q2rTxhE9I0pE",
        "colab_type": "code",
        "colab": {}
      },
      "source": [
        "w = torch.randn(y.shape[1], x.shape[1], requires_grad=True)\n",
        "b = torch.randn(y.shape[1], requires_grad=True)"
      ],
      "execution_count": 0,
      "outputs": []
    },
    {
      "cell_type": "code",
      "metadata": {
        "id": "R1noRtFTKTZR",
        "colab_type": "code",
        "colab": {}
      },
      "source": [
        "def model(x):\n",
        "  return x @ w.t() + b"
      ],
      "execution_count": 0,
      "outputs": []
    },
    {
      "cell_type": "code",
      "metadata": {
        "id": "ZVftF-xVKUL2",
        "colab_type": "code",
        "colab": {}
      },
      "source": [
        "def mse(y_actual, y_pred):\n",
        "  diff = y_actual - y_pred\n",
        "  return torch.sum(diff*diff)/diff.numel()"
      ],
      "execution_count": 0,
      "outputs": []
    },
    {
      "cell_type": "code",
      "metadata": {
        "id": "C4vF0V12MXpd",
        "colab_type": "code",
        "colab": {}
      },
      "source": [
        "pred = model(x)"
      ],
      "execution_count": 0,
      "outputs": []
    },
    {
      "cell_type": "code",
      "metadata": {
        "id": "JDUq48sdMZQk",
        "colab_type": "code",
        "colab": {
          "base_uri": "https://localhost:8080/",
          "height": 104
        },
        "outputId": "878ca87c-c047-4485-bf45-7442a54509ea"
      },
      "source": [
        "pred"
      ],
      "execution_count": 68,
      "outputs": [
        {
          "output_type": "execute_result",
          "data": {
            "text/plain": [
              "tensor([[176.5707, 137.1729],\n",
              "        [225.4802, 180.9022],\n",
              "        [272.4523, 218.5048],\n",
              "        [189.6696, 130.2217],\n",
              "        [203.8818, 177.3099]], grad_fn=<AddBackward0>)"
            ]
          },
          "metadata": {
            "tags": []
          },
          "execution_count": 68
        }
      ]
    },
    {
      "cell_type": "code",
      "metadata": {
        "id": "IkF3WhwpMZ0w",
        "colab_type": "code",
        "colab": {
          "base_uri": "https://localhost:8080/",
          "height": 104
        },
        "outputId": "43799256-5611-47e2-e6b5-5146b031bf1a"
      },
      "source": [
        "targets"
      ],
      "execution_count": 74,
      "outputs": [
        {
          "output_type": "execute_result",
          "data": {
            "text/plain": [
              "tensor([[ 56.,  70.],\n",
              "        [ 81., 101.],\n",
              "        [119., 133.],\n",
              "        [ 22.,  37.],\n",
              "        [103., 119.]])"
            ]
          },
          "metadata": {
            "tags": []
          },
          "execution_count": 74
        }
      ]
    },
    {
      "cell_type": "code",
      "metadata": {
        "id": "A4l-u9iVT6EV",
        "colab_type": "code",
        "colab": {}
      },
      "source": [
        "# training the model\n",
        "\n",
        "for epoch in range(20):\n",
        "  \n",
        "  pred = model(x)\n",
        "  loss = mse(pred, y)\n",
        "  loss.backward()\n",
        "  with torch.no_grad():\n",
        "    w -= w.grad*1e-5\n",
        "    b -= b.grad*1e-5\n",
        "    \n",
        "    w.grad.zero_()\n",
        "    b.grad.zero_()\n",
        "    "
      ],
      "execution_count": 0,
      "outputs": []
    },
    {
      "cell_type": "code",
      "metadata": {
        "id": "kkkMWIlZUOwC",
        "colab_type": "code",
        "colab": {
          "base_uri": "https://localhost:8080/",
          "height": 104
        },
        "outputId": "f7c7cd6b-31db-48df-e39f-43d0739219be"
      },
      "source": [
        "model(x)"
      ],
      "execution_count": 82,
      "outputs": [
        {
          "output_type": "execute_result",
          "data": {
            "text/plain": [
              "tensor([[ 64.9136,  74.7634],\n",
              "        [ 79.8325,  99.4703],\n",
              "        [106.3444, 125.5727],\n",
              "        [ 70.8922,  63.9429],\n",
              "        [ 68.8322, 101.7299]], grad_fn=<AddBackward0>)"
            ]
          },
          "metadata": {
            "tags": []
          },
          "execution_count": 82
        }
      ]
    },
    {
      "cell_type": "code",
      "metadata": {
        "id": "MopP8lB4UPrz",
        "colab_type": "code",
        "colab": {
          "base_uri": "https://localhost:8080/",
          "height": 104
        },
        "outputId": "14a471ac-c7cd-4dd8-948f-5d5f5d88254b"
      },
      "source": [
        "y"
      ],
      "execution_count": 83,
      "outputs": [
        {
          "output_type": "execute_result",
          "data": {
            "text/plain": [
              "tensor([[ 56.,  70.],\n",
              "        [ 81., 101.],\n",
              "        [119., 133.],\n",
              "        [ 22.,  37.],\n",
              "        [103., 119.]])"
            ]
          },
          "metadata": {
            "tags": []
          },
          "execution_count": 83
        }
      ]
    },
    {
      "cell_type": "code",
      "metadata": {
        "id": "ruQcrjo1Ul_D",
        "colab_type": "code",
        "colab": {}
      },
      "source": [
        ""
      ],
      "execution_count": 0,
      "outputs": []
    }
  ]
}