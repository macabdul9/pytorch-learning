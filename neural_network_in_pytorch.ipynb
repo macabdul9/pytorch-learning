{
  "nbformat": 4,
  "nbformat_minor": 0,
  "metadata": {
    "colab": {
      "name": "neural-network-in-pytorch.ipynb",
      "provenance": []
    },
    "kernelspec": {
      "name": "python3",
      "display_name": "Python 3"
    },
    "accelerator": "GPU"
  },
  "cells": [
    {
      "cell_type": "markdown",
      "metadata": {
        "id": "PbPoSLvhQGFV",
        "colab_type": "text"
      },
      "source": [
        "### 0. Dependencies"
      ]
    },
    {
      "cell_type": "code",
      "metadata": {
        "id": "jr_RCWO9P2Pn",
        "colab_type": "code",
        "colab": {}
      },
      "source": [
        "import torch\n",
        "import numpy as np\n"
      ],
      "execution_count": 0,
      "outputs": []
    },
    {
      "cell_type": "code",
      "metadata": {
        "id": "WRXq6VTgP969",
        "colab_type": "code",
        "colab": {}
      },
      "source": [
        ""
      ],
      "execution_count": 0,
      "outputs": []
    },
    {
      "cell_type": "markdown",
      "metadata": {
        "id": "KT5FiZafQJuY",
        "colab_type": "text"
      },
      "source": [
        "### The Neural Network Class"
      ]
    },
    {
      "cell_type": "code",
      "metadata": {
        "id": "MlLgvhg2T4sl",
        "colab_type": "code",
        "colab": {}
      },
      "source": [
        ""
      ],
      "execution_count": 0,
      "outputs": []
    }
  ]
}