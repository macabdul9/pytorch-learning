{
  "nbformat": 4,
  "nbformat_minor": 0,
  "metadata": {
    "kernelspec": {
      "name": "python3",
      "display_name": "Python 3"
    },
    "language_info": {
      "codemirror_mode": {
        "name": "ipython",
        "version": 3
      },
      "file_extension": ".py",
      "mimetype": "text/x-python",
      "name": "python",
      "nbconvert_exporter": "python",
      "pygments_lexer": "ipython3",
      "version": "3.6.8"
    },
    "colab": {
      "name": "week-4-neural-network.ipynb",
      "provenance": [],
      "collapsed_sections": [],
      "toc_visible": true
    },
    "accelerator": "GPU"
  },
  "cells": [
    {
      "cell_type": "code",
      "metadata": {
        "id": "5jUYdg147XN6",
        "colab_type": "code",
        "colab": {}
      },
      "source": [
        "import torch\n",
        "import torch.nn as nn\n",
        "from torch.utils.data import Dataset, DataLoader\n",
        "import torchvision.transforms  as transforms\n",
        "import torchvision.datasets as datasets\n",
        "import numpy as np\n",
        "import matplotlib.pyplot as plt\n"
      ],
      "execution_count": 0,
      "outputs": []
    },
    {
      "cell_type": "markdown",
      "metadata": {
        "id": "pUiCZeLF7XOY",
        "colab_type": "text"
      },
      "source": [
        "### Load Dataset"
      ]
    },
    {
      "cell_type": "code",
      "metadata": {
        "id": "TSmhBIkO7XOh",
        "colab_type": "code",
        "colab": {}
      },
      "source": [
        "train = datasets.MNIST(root='./MNIST', train=True, download=True, transform=transforms.ToTensor())\n",
        "test = datasets.MNIST(root='./MNIST', train=False, download=True, transform=transforms.ToTensor())"
      ],
      "execution_count": 0,
      "outputs": []
    },
    {
      "cell_type": "code",
      "metadata": {
        "id": "5zFxQDndKVD7",
        "colab_type": "code",
        "colab": {}
      },
      "source": [
        ""
      ],
      "execution_count": 0,
      "outputs": []
    },
    {
      "cell_type": "code",
      "metadata": {
        "id": "_dnkoD-v7XO0",
        "colab_type": "code",
        "outputId": "94de82c0-a866-45e6-affb-eeae28ec99e4",
        "colab": {
          "base_uri": "https://localhost:8080/",
          "height": 281
        }
      },
      "source": [
        "plt.imshow(train[0][0].view(28, 28), cmap='gray')\n",
        "plt.title(train[0][1])\n",
        "plt.show()"
      ],
      "execution_count": 0,
      "outputs": [
        {
          "output_type": "display_data",
          "data": {
            "image/png": "[encoded data removed]",
            "text/plain": [
              "<Figure size 432x288 with 1 Axes>"
            ]
          },
          "metadata": {
            "tags": []
          }
        }
      ]
    },
    {
      "cell_type": "code",
      "metadata": {
        "id": "xCYMBrKy7XPF",
        "colab_type": "code",
        "colab": {}
      },
      "source": [
        "train_dl = DataLoader(dataset=train, batch_size=512, shuffle=True)\n",
        "test_dl = DataLoader(dataset=test, batch_size=512, shuffle=True)"
      ],
      "execution_count": 0,
      "outputs": []
    },
    {
      "cell_type": "markdown",
      "metadata": {
        "id": "Qubw411e-nLJ",
        "colab_type": "text"
      },
      "source": [
        "#### Create Linear Model"
      ]
    },
    {
      "cell_type": "code",
      "metadata": {
        "id": "TaURrrHO7XPZ",
        "colab_type": "code",
        "colab": {}
      },
      "source": [
        "class MNIST(nn.Module):\n",
        "  \n",
        "  def __init__(self, inp, out):\n",
        "    super(MNIST, self).__init__()\n",
        "    self.linear = nn.Linear(in_features=inp, out_features=out)\n",
        "  \n",
        "  def forward(self, x):\n",
        "    return self.linear(x)\n",
        " \n",
        "    "
      ],
      "execution_count": 0,
      "outputs": []
    },
    {
      "cell_type": "code",
      "metadata": {
        "id": "RodDgQkJ7XPn",
        "colab_type": "code",
        "colab": {}
      },
      "source": [
        "features = 28*28\n",
        "output = 10"
      ],
      "execution_count": 0,
      "outputs": []
    },
    {
      "cell_type": "code",
      "metadata": {
        "id": "BYquaG3K_JeB",
        "colab_type": "code",
        "colab": {}
      },
      "source": [
        "model = MNIST(features, output)"
      ],
      "execution_count": 0,
      "outputs": []
    },
    {
      "cell_type": "code",
      "metadata": {
        "id": "ACmomfc2_MqI",
        "colab_type": "code",
        "outputId": "fd421a61-303a-4104-993d-aca851b1cbda",
        "colab": {
          "base_uri": "https://localhost:8080/",
          "height": 69
        }
      },
      "source": [
        "print(model)\n",
        "# print(list(model.parameters()))"
      ],
      "execution_count": 0,
      "outputs": [
        {
          "output_type": "stream",
          "text": [
            "MNIST(\n",
            "  (linear): Linear(in_features=784, out_features=10, bias=True)\n",
            ")\n"
          ],
          "name": "stdout"
        }
      ]
    },
    {
      "cell_type": "code",
      "metadata": {
        "id": "3eF18R0x_Sm0",
        "colab_type": "code",
        "outputId": "b1e90d7a-e7d7-4d40-8db9-6eeb8e46a34b",
        "colab": {
          "base_uri": "https://localhost:8080/",
          "height": 265
        }
      },
      "source": [
        "plt.imshow(list(model.parameters())[0][1].view(28, 28).detach().numpy());"
      ],
      "execution_count": 0,
      "outputs": [
        {
          "output_type": "display_data",
          "data": {
            "image/png": "[encoded data removed]",
            "text/plain": [
              "<Figure size 432x288 with 1 Axes>"
            ]
          },
          "metadata": {
            "tags": []
          }
        }
      ]
    },
    {
      "cell_type": "code",
      "metadata": {
        "id": "K-pSaCCR_Z39",
        "colab_type": "code",
        "outputId": "050d6c12-3c40-4e24-d941-ea8988fa52d0",
        "colab": {
          "base_uri": "https://localhost:8080/",
          "height": 34
        }
      },
      "source": [
        "list(model.parameters())[1][1].shape"
      ],
      "execution_count": 0,
      "outputs": [
        {
          "output_type": "execute_result",
          "data": {
            "text/plain": [
              "torch.Size([])"
            ]
          },
          "metadata": {
            "tags": []
          },
          "execution_count": 99
        }
      ]
    },
    {
      "cell_type": "code",
      "metadata": {
        "id": "Fy-kS_XK_q80",
        "colab_type": "code",
        "outputId": "b02efd96-fd02-41cd-e36b-e01e3fabff5d",
        "colab": {
          "base_uri": "https://localhost:8080/",
          "height": 69
        }
      },
      "source": [
        "print(model)"
      ],
      "execution_count": 0,
      "outputs": [
        {
          "output_type": "stream",
          "text": [
            "MNIST(\n",
            "  (linear): Linear(in_features=784, out_features=10, bias=True)\n",
            ")\n"
          ],
          "name": "stdout"
        }
      ]
    },
    {
      "cell_type": "code",
      "metadata": {
        "id": "Kfx3M5BgFzMW",
        "colab_type": "code",
        "outputId": "64ac02be-d079-421d-87be-b6e305191aa2",
        "colab": {
          "base_uri": "https://localhost:8080/",
          "height": 52
        }
      },
      "source": [
        "# Print the parameters\n",
        "\n",
        "print('W: ',list(model.parameters())[0].size())\n",
        "print('b: ',list(model.parameters())[1].size())"
      ],
      "execution_count": 0,
      "outputs": [
        {
          "output_type": "stream",
          "text": [
            "W:  torch.Size([10, 784])\n",
            "b:  torch.Size([10])\n"
          ],
          "name": "stdout"
        }
      ]
    },
    {
      "cell_type": "code",
      "metadata": {
        "id": "hIhoz2GtF5KJ",
        "colab_type": "code",
        "colab": {}
      },
      "source": [
        "# The function to plot parameters\n",
        "\n",
        "def PlotParameters(model): \n",
        "    W = model.state_dict()['linear.weight'].data\n",
        "    w_min = W.min().item()\n",
        "    w_max = W.max().item()\n",
        "    fig, axes = plt.subplots(2, 5)\n",
        "    fig.subplots_adjust(hspace=0.01, wspace=0.1)\n",
        "    for i, ax in enumerate(axes.flat):\n",
        "        if i < 10:\n",
        "            \n",
        "            # Set the label for the sub-plot.\n",
        "            ax.set_xlabel(\"class: {0}\".format(i))\n",
        "\n",
        "            # Plot the image.\n",
        "            ax.imshow(W[i, :].view(28, 28), vmin=w_min, vmax=w_max, cmap='seismic')\n",
        "\n",
        "            ax.set_xticks([])\n",
        "            ax.set_yticks([])\n",
        "\n",
        "        # Ensure the plot is shown correctly with multiple plots\n",
        "        # in a single Notebook cell.\n",
        "    plt.show()"
      ],
      "execution_count": 0,
      "outputs": []
    },
    {
      "cell_type": "code",
      "metadata": {
        "id": "_YXdhM55G0rw",
        "colab_type": "code",
        "outputId": "b7a68cab-f34c-4280-a0d1-cb3e346f015d",
        "colab": {
          "base_uri": "https://localhost:8080/",
          "height": 216
        }
      },
      "source": [
        "# Plot the model parameters for each class\n",
        "\n",
        "PlotParameters(model)"
      ],
      "execution_count": 0,
      "outputs": [
        {
          "output_type": "display_data",
          "data": {
            "image/png": "[encoded data removed]",
            "text/plain": [
              "<Figure size 432x288 with 10 Axes>"
            ]
          },
          "metadata": {
            "tags": []
          }
        }
      ]
    },
    {
      "cell_type": "code",
      "metadata": {
        "id": "1Nt-eSZMG-Az",
        "colab_type": "code",
        "colab": {}
      },
      "source": [
        "epochs = 100\n",
        "lr = 0.01\n",
        "Loss = []\n",
        "acc = []"
      ],
      "execution_count": 0,
      "outputs": []
    },
    {
      "cell_type": "code",
      "metadata": {
        "id": "tuEN-TwmHIDf",
        "colab_type": "code",
        "colab": {}
      },
      "source": [
        "optimizer = torch.optim.SGD(model.parameters(), lr=lr)\n",
        "criterion = nn.CrossEntropyLoss()"
      ],
      "execution_count": 0,
      "outputs": []
    },
    {
      "cell_type": "code",
      "metadata": {
        "id": "ZmCZ9D23HKbM",
        "colab_type": "code",
        "outputId": "a13020cb-fd17-45a6-d573-8037d392e9ea",
        "colab": {
          "base_uri": "https://localhost:8080/",
          "height": 104
        }
      },
      "source": [
        "for epoch in range(epochs):\n",
        "  \n",
        "  for x, y in train_dl:\n",
        "#     print(x.shape)\n",
        "    \n",
        "    yhat = model.forward(x.view(-1, 28*28))\n",
        "    \n",
        "    loss = criterion(yhat, y)\n",
        "    \n",
        "    optimizer.zero_grad()\n",
        "    \n",
        "    loss.backward()\n",
        "    \n",
        "    optimizer.step()\n",
        "    \n",
        "    Loss.append(loss.item())\n",
        "    \n",
        "  # count test accuracy\n",
        "  count = 0\n",
        "  for x, y in test_dl:\n",
        "    pred = model.forward(x.view(-1, 28*28))\n",
        "    _, yhat = torch.max(pred.data, 1)\n",
        "    \n",
        "    count += (y==yhat).sum().item()\n",
        "  acc.append(count/len(test))\n",
        "  \n",
        "  if epoch%(epochs//5)==0:\n",
        "    print(f'Loss = {Loss[-1]}  |   test_acc = {acc[-1]}')"
      ],
      "execution_count": 0,
      "outputs": [
        {
          "output_type": "stream",
          "text": [
            "Loss = 0.2473880499601364  |   test_acc = 0.9135\n",
            "Loss = 0.22843267023563385  |   test_acc = 0.9151\n",
            "Loss = 0.24059952795505524  |   test_acc = 0.9159\n",
            "Loss = 0.33350375294685364  |   test_acc = 0.9168\n",
            "Loss = 0.42675817012786865  |   test_acc = 0.9181\n"
          ],
          "name": "stdout"
        }
      ]
    },
    {
      "cell_type": "code",
      "metadata": {
        "id": "LS2a8X26OxFV",
        "colab_type": "code",
        "outputId": "cd1da6d7-4dbe-4344-c99c-111a7dbe9b6b",
        "colab": {
          "base_uri": "https://localhost:8080/",
          "height": 283
        }
      },
      "source": [
        "plt.plot(Loss)"
      ],
      "execution_count": 0,
      "outputs": [
        {
          "output_type": "execute_result",
          "data": {
            "text/plain": [
              "[<matplotlib.lines.Line2D at 0x7f6666f07780>]"
            ]
          },
          "metadata": {
            "tags": []
          },
          "execution_count": 125
        },
        {
          "output_type": "display_data",
          "data": {
            "image/png": "[encoded data removed]",
            "text/plain": [
              "<Figure size 432x288 with 1 Axes>"
            ]
          },
          "metadata": {
            "tags": []
          }
        }
      ]
    },
    {
      "cell_type": "code",
      "metadata": {
        "id": "WtNRw6KiISEJ",
        "colab_type": "code",
        "outputId": "f5d2fb9f-e52e-4596-888d-4f1d8e058aeb",
        "colab": {
          "base_uri": "https://localhost:8080/",
          "height": 282
        }
      },
      "source": [
        "plt.plot(acc)"
      ],
      "execution_count": 0,
      "outputs": [
        {
          "output_type": "execute_result",
          "data": {
            "text/plain": [
              "[<matplotlib.lines.Line2D at 0x7f66676ac198>]"
            ]
          },
          "metadata": {
            "tags": []
          },
          "execution_count": 126
        },
        {
          "output_type": "display_data",
          "data": {
            "image/png": "[encoded data removed]",
            "text/plain": [
              "<Figure size 432x288 with 1 Axes>"
            ]
          },
          "metadata": {
            "tags": []
          }
        }
      ]
    },
    {
      "cell_type": "code",
      "metadata": {
        "id": "X9ejjBatITLG",
        "colab_type": "code",
        "outputId": "4f4f6aa2-4730-43cc-9b7f-5453f90e9fcd",
        "colab": {
          "base_uri": "https://localhost:8080/",
          "height": 216
        }
      },
      "source": [
        "PlotParameters(model)"
      ],
      "execution_count": 0,
      "outputs": [
        {
          "output_type": "display_data",
          "data": {
            "image/png": "[encoded data removed]",
            "text/plain": [
              "<Figure size 432x288 with 10 Axes>"
            ]
          },
          "metadata": {
            "tags": []
          }
        }
      ]
    },
    {
      "cell_type": "code",
      "metadata": {
        "id": "_fsvbCj3M4Oh",
        "colab_type": "code",
        "colab": {}
      },
      "source": [
        "from sklearn.datasets import load_breast_cancer\n",
        "from sklearn.utils import shuffle"
      ],
      "execution_count": 0,
      "outputs": []
    },
    {
      "cell_type": "code",
      "metadata": {
        "id": "4c3YBXl0daGe",
        "colab_type": "code",
        "colab": {}
      },
      "source": [
        "def load_data():\n",
        "    data = load_breast_cancer()\n",
        "    \n",
        "    # get the features\n",
        "    x = data.data\n",
        "    y = data.target\n",
        "    \n",
        "    x, y = shuffle(x, y)\n",
        "    \n",
        "    # normalize the features\n",
        "    x = (x - np.mean(x))/np.std(x)\n",
        "    \n",
        "    \n",
        "    # convert e'm into numpy\n",
        "    x = torch.from_numpy(x)\n",
        "    y = torch.from_numpy(y)\n",
        "    \n",
        "    # change the type\n",
        "    x = x.type(torch.float32)\n",
        "    y = y.type(torch.float32)\n",
        "    \n",
        "    # reshape\n",
        "    y = y.view(-1, 1)\n",
        "    \n",
        "    return x, y"
      ],
      "execution_count": 0,
      "outputs": []
    },
    {
      "cell_type": "code",
      "metadata": {
        "id": "Ltv14bDxd1YV",
        "colab_type": "code",
        "colab": {}
      },
      "source": [
        "class Data(Dataset):\n",
        "    \n",
        "    def __init__(self):\n",
        "        self.x, self.y = load_data()\n",
        "        self.len = self.x.shape[0]\n",
        "    \n",
        "    def __getitem__(self, index):\n",
        "        return self.x[index], self.y[index]\n",
        "    \n",
        "    def __len__(self):\n",
        "        return self.len\n"
      ],
      "execution_count": 0,
      "outputs": []
    },
    {
      "cell_type": "code",
      "metadata": {
        "id": "BH1DUjmwedQT",
        "colab_type": "code",
        "colab": {}
      },
      "source": [
        "dataset = Data()"
      ],
      "execution_count": 0,
      "outputs": []
    },
    {
      "cell_type": "code",
      "metadata": {
        "id": "kUWV514SfCjB",
        "colab_type": "code",
        "outputId": "83028751-80e2-4597-c7b7-f51687008cf5",
        "colab": {
          "base_uri": "https://localhost:8080/",
          "height": 34
        }
      },
      "source": [
        "dataset.x.shape"
      ],
      "execution_count": 0,
      "outputs": [
        {
          "output_type": "execute_result",
          "data": {
            "text/plain": [
              "torch.Size([569, 30])"
            ]
          },
          "metadata": {
            "tags": []
          },
          "execution_count": 139
        }
      ]
    },
    {
      "cell_type": "code",
      "metadata": {
        "id": "u3uxHppWegkk",
        "colab_type": "code",
        "colab": {}
      },
      "source": [
        "train_dl = DataLoader(dataset=dataset, batch_size=64, shuffle=True)"
      ],
      "execution_count": 0,
      "outputs": []
    },
    {
      "cell_type": "code",
      "metadata": {
        "id": "TkQ6yCf2ez5o",
        "colab_type": "code",
        "colab": {}
      },
      "source": [
        "# model\n",
        "model = nn.Sequential(nn.Linear(30,  20), nn.Sigmoid(), nn.Linear(20, 10), nn.Sigmoid(), nn.Linear(10, 1), nn.Sigmoid())"
      ],
      "execution_count": 0,
      "outputs": []
    },
    {
      "cell_type": "code",
      "metadata": {
        "id": "Jw_f9n3Ze2_o",
        "colab_type": "code",
        "colab": {}
      },
      "source": [
        "# print(list(model.parameters()))"
      ],
      "execution_count": 0,
      "outputs": []
    },
    {
      "cell_type": "code",
      "metadata": {
        "id": "RZdTgVusfxjx",
        "colab_type": "code",
        "colab": {}
      },
      "source": [
        "epochs = 10000\n",
        "Loss = []\n",
        "acc = []\n",
        "lr = 0.1"
      ],
      "execution_count": 0,
      "outputs": []
    },
    {
      "cell_type": "code",
      "metadata": {
        "id": "0SX-cY0ZhoWt",
        "colab_type": "code",
        "colab": {}
      },
      "source": [
        "opt = torch.optim.SGD(model.parameters(), lr=0.1)\n",
        "criterian = nn.MSELoss()"
      ],
      "execution_count": 0,
      "outputs": []
    },
    {
      "cell_type": "code",
      "metadata": {
        "id": "P2fpN0NCh0iy",
        "colab_type": "code",
        "outputId": "6373bdfa-561f-44d6-e31e-0dfea98ba07f",
        "colab": {
          "base_uri": "https://localhost:8080/",
          "height": 104
        }
      },
      "source": [
        "for epoch in range(epochs):\n",
        "  \n",
        "  for x, y in train_dl:\n",
        "    yhat = model(x)\n",
        "    loss = criterian(yhat, y)\n",
        "    opt.zero_grad()\n",
        "    loss.backward()\n",
        "    opt.step()\n",
        "    Loss.append(loss.item())\n",
        "    \n",
        "  if epoch%(epochs//5)==0:\n",
        "    print(f'epoch {epoch} | loss {Loss[-1]}')\n",
        "    "
      ],
      "execution_count": 0,
      "outputs": [
        {
          "output_type": "stream",
          "text": [
            "epoch 0 | loss 0.041094936430454254\n",
            "epoch 2000 | loss 0.0411110445857048\n",
            "epoch 4000 | loss 0.02514505572617054\n",
            "epoch 6000 | loss 0.04112646356225014\n",
            "epoch 8000 | loss 0.02027657814323902\n"
          ],
          "name": "stdout"
        }
      ]
    },
    {
      "cell_type": "code",
      "metadata": {
        "id": "MkkEdz8noR7c",
        "colab_type": "code",
        "outputId": "b1f8b4c9-0ad9-431e-c07b-39bcb07ed949",
        "colab": {
          "base_uri": "https://localhost:8080/",
          "height": 282
        }
      },
      "source": [
        "plt.plot(Loss)"
      ],
      "execution_count": 0,
      "outputs": [
        {
          "output_type": "execute_result",
          "data": {
            "text/plain": [
              "[<matplotlib.lines.Line2D at 0x7f663ef5ecf8>]"
            ]
          },
          "metadata": {
            "tags": []
          },
          "execution_count": 164
        },
        {
          "output_type": "display_data",
          "data": {
            "image/png": "[encoded data removed]",
            "text/plain": [
              "<Figure size 432x288 with 1 Axes>"
            ]
          },
          "metadata": {
            "tags": []
          }
        }
      ]
    },
    {
      "cell_type": "code",
      "metadata": {
        "id": "OukDCPoLih78",
        "colab_type": "code",
        "outputId": "457442dc-e183-4db6-d851-e6f88f9cc209",
        "colab": {
          "base_uri": "https://localhost:8080/",
          "height": 34
        }
      },
      "source": [
        "# Make the Prediction\n",
        "yhat = model.forward(dataset.x)\n",
        "label = yhat > 0.5\n",
        "print(\"The accuracy: \", torch.mean((label == dataset.y.type(torch.ByteTensor)).type(torch.float)))"
      ],
      "execution_count": 0,
      "outputs": [
        {
          "output_type": "stream",
          "text": [
            "The accuracy:  tensor(0.9596)\n"
          ],
          "name": "stdout"
        }
      ]
    },
    {
      "cell_type": "code",
      "metadata": {
        "id": "fg9hmzyvoP1H",
        "colab_type": "code",
        "colab": {}
      },
      "source": [
        ""
      ],
      "execution_count": 0,
      "outputs": []
    }
  ]
}