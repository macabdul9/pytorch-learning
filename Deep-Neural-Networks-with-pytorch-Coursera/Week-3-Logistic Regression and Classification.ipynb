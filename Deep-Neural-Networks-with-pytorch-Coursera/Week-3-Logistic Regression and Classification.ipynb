{
 "cells": [
  {
   "cell_type": "code",
   "execution_count": 169,
   "metadata": {},
   "outputs": [],
   "source": [
    "import torch\n",
    "import torch.nn as nn\n",
    "from torch.utils.data import Dataset, DataLoader\n",
    "import numpy as np\n",
    "import matplotlib.pyplot as plt\n",
    "from sklearn.datasets import load_iris, load_breast_cancer\n",
    "from sklearn.utils import shuffle\n",
    "%matplotlib inline"
   ]
  },
  {
   "cell_type": "code",
   "execution_count": 112,
   "metadata": {},
   "outputs": [],
   "source": [
    "x = torch.arange(-100, 100, 0.1).view(-1, 1)\n",
    "y = torch.sigmoid(x)"
   ]
  },
  {
   "cell_type": "code",
   "execution_count": 113,
   "metadata": {},
   "outputs": [
    {
     "data": {
      "image/png": "[encoded data removed]",
      "text/plain": [
       "<Figure size 432x288 with 1 Axes>"
      ]
     },
     "metadata": {
      "needs_background": "light"
     },
     "output_type": "display_data"
    }
   ],
   "source": [
    "plt.plot(x.numpy(), y.numpy());"
   ]
  },
  {
   "cell_type": "code",
   "execution_count": 171,
   "metadata": {},
   "outputs": [],
   "source": [
    "def load_data():\n",
    "    data = load_breast_cancer()\n",
    "    \n",
    "    # get the features\n",
    "    x = data.data\n",
    "    y = data.target\n",
    "    \n",
    "    x, y = shuffle(x, y)\n",
    "    \n",
    "    # normalize the features\n",
    "    x = (x - np.mean(x))/np.std(x)\n",
    "    \n",
    "    \n",
    "    # convert e'm into numpy\n",
    "    x = torch.from_numpy(x)\n",
    "    y = torch.from_numpy(y)\n",
    "    \n",
    "    # change the type\n",
    "    x = x.type(torch.float32)\n",
    "    y = y.type(torch.float32)\n",
    "    \n",
    "    # reshape\n",
    "    y = y.view(-1, 1)\n",
    "    \n",
    "    return x, y"
   ]
  },
  {
   "cell_type": "code",
   "execution_count": 174,
   "metadata": {},
   "outputs": [],
   "source": [
    "x, y = load_data()"
   ]
  },
  {
   "cell_type": "code",
   "execution_count": 175,
   "metadata": {},
   "outputs": [
    {
     "name": "stdout",
     "output_type": "stream",
     "text": [
      "torch.Size([569, 30]) torch.Size([569, 1])\n"
     ]
    }
   ],
   "source": [
    "print(x.shape, y.shape)"
   ]
  },
  {
   "cell_type": "code",
   "execution_count": 176,
   "metadata": {},
   "outputs": [],
   "source": [
    "def forward(x):\n",
    "    return torch.sigmoid(x@w + b)"
   ]
  },
  {
   "cell_type": "code",
   "execution_count": 177,
   "metadata": {},
   "outputs": [],
   "source": [
    "def criterion(yhat,y):\n",
    "    out = -1 * torch.mean(y * torch.log(yhat) + (1 - y) * torch.log(1 - yhat))\n",
    "    return out"
   ]
  },
  {
   "cell_type": "code",
   "execution_count": 178,
   "metadata": {},
   "outputs": [],
   "source": [
    "# initialie the weights and bias\n",
    "w = torch.randn((x.size()[1], 1), requires_grad=True)\n",
    "b = torch.randn(1, requires_grad=True)"
   ]
  },
  {
   "cell_type": "code",
   "execution_count": null,
   "metadata": {},
   "outputs": [],
   "source": []
  },
  {
   "cell_type": "code",
   "execution_count": 182,
   "metadata": {},
   "outputs": [
    {
     "name": "stdout",
     "output_type": "stream",
     "text": [
      "epoch 0  loss 0.1422208994626999\n",
      "epoch 4000  loss 0.1400221437215805\n",
      "epoch 8000  loss 0.13803468644618988\n",
      "epoch 12000  loss 0.13623055815696716\n",
      "epoch 16000  loss 0.1345863938331604\n"
     ]
    }
   ],
   "source": [
    "lr = 0.3\n",
    "epochs = 20000\n",
    "Loss = []\n",
    "for epoch in range(epochs):\n",
    "    yhat = forward(x)\n",
    "    loss = criterian(yhat, y)\n",
    "    loss.backward()\n",
    "    with torch.no_grad():\n",
    "        w -= lr*w.grad\n",
    "        b -= lr*b.grad    \n",
    "        w.grad.zero_()\n",
    "        b.grad.zero_()\n",
    "    Loss.append(loss.item())\n",
    "    \n",
    "    if epoch%(epochs//5)==0: # I want to see the 5 only\n",
    "        print(f'epoch {epoch}  loss {Loss[-1]}')"
   ]
  },
  {
   "cell_type": "code",
   "execution_count": 183,
   "metadata": {},
   "outputs": [
    {
     "data": {
      "text/plain": [
       "[<matplotlib.lines.Line2D at 0x7efe98b4f5f8>]"
      ]
     },
     "execution_count": 183,
     "metadata": {},
     "output_type": "execute_result"
    },
    {
     "data": {
      "image/png": "[encoded data removed]",
      "text/plain": [
       "<Figure size 432x288 with 1 Axes>"
      ]
     },
     "metadata": {
      "needs_background": "light"
     },
     "output_type": "display_data"
    }
   ],
   "source": [
    "plt.plot(Loss)"
   ]
  },
  {
   "cell_type": "code",
   "execution_count": 184,
   "metadata": {},
   "outputs": [
    {
     "name": "stdout",
     "output_type": "stream",
     "text": [
      "The accuracy:  tensor(0.9473)\n"
     ]
    }
   ],
   "source": [
    "# Make the Prediction\n",
    "yhat = forward(x)\n",
    "label = yhat > 0.5\n",
    "print(\"The accuracy: \", torch.mean((label == y.type(torch.ByteTensor)).type(torch.float)))"
   ]
  },
  {
   "cell_type": "code",
   "execution_count": 70,
   "metadata": {},
   "outputs": [
    {
     "data": {
      "text/plain": [
       "0.6274164915084839"
      ]
     },
     "execution_count": 70,
     "metadata": {},
     "output_type": "execute_result"
    }
   ],
   "source": [
    "Loss[0]"
   ]
  },
  {
   "cell_type": "code",
   "execution_count": 15,
   "metadata": {},
   "outputs": [
    {
     "data": {
      "text/plain": [
       "torch.Size([569, 30])"
      ]
     },
     "execution_count": 15,
     "metadata": {},
     "output_type": "execute_result"
    }
   ],
   "source": [
    "x.shape"
   ]
  },
  {
   "cell_type": "code",
   "execution_count": 162,
   "metadata": {},
   "outputs": [],
   "source": [
    "model = nn.Sequential(nn.Linear(30, 1), nn.Sigmoid())"
   ]
  },
  {
   "cell_type": "code",
   "execution_count": 163,
   "metadata": {},
   "outputs": [
    {
     "name": "stdout",
     "output_type": "stream",
     "text": [
      "OrderedDict([('0.weight', tensor([[ 0.0508,  0.0486, -0.0507,  0.0524,  0.0432, -0.1778, -0.0858,  0.0911,\n",
      "         -0.1265, -0.0648,  0.1062,  0.0937, -0.1413,  0.0811, -0.1320,  0.1600,\n",
      "         -0.0187,  0.0249,  0.0529, -0.1404,  0.1302, -0.1208, -0.1629,  0.0344,\n",
      "          0.0516,  0.1316, -0.1491, -0.0375,  0.1429,  0.0977]])), ('0.bias', tensor([-0.1504]))])\n"
     ]
    }
   ],
   "source": [
    "print(model.state_dict())"
   ]
  },
  {
   "cell_type": "code",
   "execution_count": 164,
   "metadata": {},
   "outputs": [],
   "source": [
    "criterian = nn.BCELoss()\n",
    "opt = torch.optim.SGD(model.parameters(), lr=0.01)"
   ]
  },
  {
   "cell_type": "code",
   "execution_count": 166,
   "metadata": {},
   "outputs": [
    {
     "name": "stdout",
     "output_type": "stream",
     "text": [
      "Epoch 0 | Loss 0.7410566210746765\n",
      "Epoch 1000 | Loss 0.32930266857147217\n",
      "Epoch 2000 | Loss 0.26770928502082825\n",
      "Epoch 3000 | Loss 0.24215111136436462\n",
      "Epoch 4000 | Loss 0.22780409455299377\n",
      "Epoch 5000 | Loss 0.21845538914203644\n",
      "Epoch 6000 | Loss 0.21179281175136566\n",
      "Epoch 7000 | Loss 0.20675058662891388\n",
      "Epoch 8000 | Loss 0.2027667760848999\n",
      "Epoch 9000 | Loss 0.19951558113098145\n"
     ]
    }
   ],
   "source": [
    "epochs = 10000\n",
    "Loss = []\n",
    "for epoch in range(epochs):\n",
    "    yhat = model(x)\n",
    "    loss = criterian(yhat, y)\n",
    "    opt.zero_grad()\n",
    "    loss.backward()\n",
    "    opt.step()\n",
    "    Loss.append(loss.item())\n",
    "    if epoch%(epochs//10)==0:\n",
    "        print(f'Epoch {epoch} | Loss {Loss[-1]}')\n",
    "        "
   ]
  },
  {
   "cell_type": "code",
   "execution_count": 167,
   "metadata": {},
   "outputs": [
    {
     "name": "stdout",
     "output_type": "stream",
     "text": [
      "The accuracy:  tensor(0.9227)\n"
     ]
    }
   ],
   "source": [
    "# Make the Prediction\n",
    "yhat = model(x)\n",
    "label = yhat > 0.5\n",
    "print(\"The accuracy: \", torch.mean((label == y.type(torch.ByteTensor)).type(torch.float)))"
   ]
  },
  {
   "cell_type": "code",
   "execution_count": 217,
   "metadata": {},
   "outputs": [],
   "source": [
    "class Data(Dataset):\n",
    "    \n",
    "    def __init__(self):\n",
    "        self.x, self.y = load_data()\n",
    "        self.len = self.x.shape[0]\n",
    "    \n",
    "    def __getitem__(self, index):\n",
    "        return self.x[index], self.y[index]\n",
    "    \n",
    "    def __len__(self):\n",
    "        return self.len\n",
    "        "
   ]
  },
  {
   "cell_type": "code",
   "execution_count": 218,
   "metadata": {},
   "outputs": [],
   "source": [
    "class  LRC(nn.Module):\n",
    "    \n",
    "    def __init__(self):\n",
    "        super(LRC, self).__init__()\n",
    "        self.model = nn.Sequential(nn.Linear(in_features=30, out_features=1), nn.Sigmoid())\n",
    "        \n",
    "    def forward(self, x):\n",
    "        return self.model(x)"
   ]
  },
  {
   "cell_type": "code",
   "execution_count": 219,
   "metadata": {},
   "outputs": [],
   "source": [
    "dataset = Data()"
   ]
  },
  {
   "cell_type": "code",
   "execution_count": 220,
   "metadata": {},
   "outputs": [],
   "source": [
    "train_dl = DataLoader(dataset=dataset, batch_size=64, shuffle=True)"
   ]
  },
  {
   "cell_type": "code",
   "execution_count": 221,
   "metadata": {},
   "outputs": [],
   "source": [
    "model = LRC()"
   ]
  },
  {
   "cell_type": "code",
   "execution_count": 238,
   "metadata": {},
   "outputs": [],
   "source": [
    "opt  = torch.optim.SGD(model.parameters(), lr=0.001)\n",
    "criterian = nn.BCELoss()"
   ]
  },
  {
   "cell_type": "code",
   "execution_count": 241,
   "metadata": {},
   "outputs": [
    {
     "name": "stdout",
     "output_type": "stream",
     "text": [
      "epoch 0 | loss 0.08154956996440887\n",
      "epoch 800 | loss 0.032268039882183075\n",
      "epoch 1600 | loss 0.1667461395263672\n",
      "epoch 2400 | loss 0.10352089256048203\n",
      "epoch 3200 | loss 0.14242109656333923\n"
     ]
    }
   ],
   "source": [
    "epochs = 4000\n",
    "Loss = []\n",
    "\n",
    "for epoch in range(epochs):\n",
    "    \n",
    "    for x, y in train_dl:\n",
    "        yhat = model.forward(x)\n",
    "        loss = criterian(yhat, y)\n",
    "        opt.zero_grad()\n",
    "        loss.backward()\n",
    "        opt.step()\n",
    "        Loss.append(loss.item())\n",
    "        \n",
    "    if epoch%(epochs//5)==0:\n",
    "         print(f'epoch {epoch} | loss {Loss[-1]}')\n"
   ]
  },
  {
   "cell_type": "code",
   "execution_count": 242,
   "metadata": {},
   "outputs": [
    {
     "name": "stdout",
     "output_type": "stream",
     "text": [
      "The accuracy:  tensor(0.9825)\n"
     ]
    }
   ],
   "source": [
    "# Make the Prediction\n",
    "yhat = model.forward(x)\n",
    "label = yhat > 0.5\n",
    "print(\"The accuracy: \", torch.mean((label == y.type(torch.ByteTensor)).type(torch.float)))"
   ]
  },
  {
   "cell_type": "code",
   "execution_count": 243,
   "metadata": {},
   "outputs": [],
   "source": [
    "Loss_+= Loss"
   ]
  },
  {
   "cell_type": "code",
   "execution_count": 244,
   "metadata": {},
   "outputs": [
    {
     "data": {
      "text/plain": [
       "[<matplotlib.lines.Line2D at 0x7efe8fc42390>]"
      ]
     },
     "execution_count": 244,
     "metadata": {},
     "output_type": "execute_result"
    },
    {
     "data": {
      "image/png": "[encoded data removed]",
      "text/plain": [
       "<Figure size 432x288 with 1 Axes>"
      ]
     },
     "metadata": {
      "needs_background": "light"
     },
     "output_type": "display_data"
    }
   ],
   "source": [
    "plt.plot(Loss_)"
   ]
  },
  {
   "cell_type": "code",
   "execution_count": null,
   "metadata": {},
   "outputs": [],
   "source": []
  }
 ],
 "metadata": {
  "kernelspec": {
   "display_name": "Python 3",
   "language": "python",
   "name": "python3"
  },
  "language_info": {
   "codemirror_mode": {
    "name": "ipython",
    "version": 3
   },
   "file_extension": ".py",
   "mimetype": "text/x-python",
   "name": "python",
   "nbconvert_exporter": "python",
   "pygments_lexer": "ipython3",
   "version": "3.6.8"
  }
 },
 "nbformat": 4,
 "nbformat_minor": 2
}
