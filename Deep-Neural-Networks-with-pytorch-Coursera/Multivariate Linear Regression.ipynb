{
 "cells": [
  {
   "cell_type": "code",
   "execution_count": 308,
   "metadata": {},
   "outputs": [],
   "source": [
    "import torch\n",
    "import torch.utils.data.dataset as dts\n",
    "import numpy as np\n",
    "import matplotlib.pyplot as plt\n",
    "import torch.nn as nn"
   ]
  },
  {
   "cell_type": "code",
   "execution_count": 309,
   "metadata": {},
   "outputs": [],
   "source": [
    "from sklearn.datasets import load_diabetes"
   ]
  },
  {
   "cell_type": "code",
   "execution_count": 310,
   "metadata": {},
   "outputs": [],
   "source": [
    "diab = load_diabetes()"
   ]
  },
  {
   "cell_type": "code",
   "execution_count": 311,
   "metadata": {},
   "outputs": [],
   "source": [
    "x = torch.from_numpy(diab.data)\n",
    "y = torch.from_numpy(diab.target)"
   ]
  },
  {
   "cell_type": "code",
   "execution_count": 312,
   "metadata": {},
   "outputs": [
    {
     "data": {
      "text/plain": [
       "tensor([ 0.0381,  0.0507,  0.0617,  0.0219, -0.0442, -0.0348, -0.0434, -0.0026,\n",
       "         0.0199, -0.0176], dtype=torch.float64)"
      ]
     },
     "execution_count": 312,
     "metadata": {},
     "output_type": "execute_result"
    }
   ],
   "source": [
    "x[0]"
   ]
  },
  {
   "cell_type": "code",
   "execution_count": 313,
   "metadata": {},
   "outputs": [],
   "source": [
    "x = x.type(torch.float32)\n",
    "y = y.type(torch.float32)"
   ]
  },
  {
   "cell_type": "code",
   "execution_count": 314,
   "metadata": {},
   "outputs": [
    {
     "name": "stdout",
     "output_type": "stream",
     "text": [
      "torch.Size([442, 10]) torch.Size([442])\n"
     ]
    }
   ],
   "source": [
    "print(x.size(), y.size())"
   ]
  },
  {
   "cell_type": "code",
   "execution_count": 315,
   "metadata": {},
   "outputs": [],
   "source": [
    "y = y.view(-1, 1)"
   ]
  },
  {
   "cell_type": "code",
   "execution_count": 316,
   "metadata": {},
   "outputs": [
    {
     "name": "stdout",
     "output_type": "stream",
     "text": [
      "torch.Size([442, 10]) torch.Size([442, 1])\n"
     ]
    }
   ],
   "source": [
    "print(x.size(), y.size())"
   ]
  },
  {
   "cell_type": "code",
   "execution_count": 193,
   "metadata": {},
   "outputs": [],
   "source": [
    "x_train, y_train, x_test, y_test = x[:400], y[:400], x[400:], y[400:]"
   ]
  },
  {
   "cell_type": "code",
   "execution_count": 194,
   "metadata": {},
   "outputs": [
    {
     "name": "stdout",
     "output_type": "stream",
     "text": [
      "torch.Size([400, 10]) torch.Size([400, 1]) torch.Size([42, 10]) torch.Size([42, 1])\n"
     ]
    }
   ],
   "source": [
    "print(x_train.shape, y_train.shape, x_test.shape, y_test.shape)"
   ]
  },
  {
   "cell_type": "code",
   "execution_count": 195,
   "metadata": {},
   "outputs": [],
   "source": [
    "# initialie the weights and bias\n",
    "w = torch.randn((x.size()[1], 1), requires_grad=True)\n",
    "b = torch.randn(y.size()[1], requires_grad=True)"
   ]
  },
  {
   "cell_type": "code",
   "execution_count": 196,
   "metadata": {},
   "outputs": [
    {
     "name": "stdout",
     "output_type": "stream",
     "text": [
      "torch.Size([10, 1]) torch.Size([1])\n"
     ]
    }
   ],
   "source": [
    "print(w.shape, b.shape)"
   ]
  },
  {
   "cell_type": "code",
   "execution_count": 197,
   "metadata": {},
   "outputs": [],
   "source": [
    "def forward(x):\n",
    "    return x@w + b"
   ]
  },
  {
   "cell_type": "code",
   "execution_count": 198,
   "metadata": {},
   "outputs": [],
   "source": [
    "def mse(t1, t2):\n",
    "    diff = t1 - t2\n",
    "    return torch.sum(diff * diff) / diff.numel()"
   ]
  },
  {
   "cell_type": "code",
   "execution_count": 376,
   "metadata": {},
   "outputs": [],
   "source": [
    "Loss = []\n",
    "max_itr = 5000\n",
    "lr = 0.03\n",
    "for epoch in range(max_itr):\n",
    "    \n",
    "    #\n",
    "    y_pred = forward(x_train)\n",
    "    \n",
    "    # calculate the loss\n",
    "    loss = mse(y_train, y_pred)\n",
    "    \n",
    "    # backpropagate  loss\n",
    "    loss.backward()\n",
    "    \n",
    "    Loss.append(loss.item())\n",
    "    with torch.no_grad():\n",
    "        w -= lr*w.grad\n",
    "        b -= lr*b.grad\n",
    "        w.grad.zero_()\n",
    "        b.grad.zero_()"
   ]
  },
  {
   "cell_type": "code",
   "execution_count": 377,
   "metadata": {},
   "outputs": [
    {
     "data": {
      "text/plain": [
       "[<matplotlib.lines.Line2D at 0x7f554dda3d30>]"
      ]
     },
     "execution_count": 377,
     "metadata": {},
     "output_type": "execute_result"
    },
    {
     "data": {
      "image/png": "[encoded data removed]",
      "text/plain": [
       "<Figure size 432x288 with 1 Axes>"
      ]
     },
     "metadata": {
      "needs_background": "light"
     },
     "output_type": "display_data"
    }
   ],
   "source": [
    "plt.plot(Loss)"
   ]
  },
  {
   "cell_type": "code",
   "execution_count": 380,
   "metadata": {},
   "outputs": [
    {
     "data": {
      "text/plain": [
       "tensor([[189.3081],\n",
       "        [119.2456],\n",
       "        [132.7300],\n",
       "        [198.8290],\n",
       "        [ 55.8005]], grad_fn=<SliceBackward>)"
      ]
     },
     "execution_count": 380,
     "metadata": {},
     "output_type": "execute_result"
    }
   ],
   "source": [
    "forward(x_test)[-5:]"
   ]
  },
  {
   "cell_type": "code",
   "execution_count": 381,
   "metadata": {},
   "outputs": [
    {
     "data": {
      "text/plain": [
       "tensor([[178.],\n",
       "        [104.],\n",
       "        [132.],\n",
       "        [220.],\n",
       "        [ 57.]])"
      ]
     },
     "execution_count": 381,
     "metadata": {},
     "output_type": "execute_result"
    }
   ],
   "source": [
    "y_test[-5:]"
   ]
  },
  {
   "cell_type": "markdown",
   "metadata": {},
   "source": [
    "## MVR with Custom Dataset Loader"
   ]
  },
  {
   "cell_type": "code",
   "execution_count": 317,
   "metadata": {},
   "outputs": [],
   "source": [
    "from torch.utils.data import Dataset, DataLoader"
   ]
  },
  {
   "cell_type": "code",
   "execution_count": 318,
   "metadata": {},
   "outputs": [],
   "source": [
    "class Data(Dataset):\n",
    "    \n",
    "    def __init__(self):\n",
    "        self.x, self.y = self.load_data()\n",
    "        self.len = self.x.shape[0]\n",
    "        \n",
    "        \n",
    "    def load_data(self):\n",
    "        diab = load_diabetes()\n",
    "        x = torch.from_numpy(diab.data)\n",
    "        y = torch.from_numpy(diab.target)\n",
    "        x = x.type(torch.float32)\n",
    "        y = y.type(torch.float32)\n",
    "\n",
    "        return x, y\n",
    "    \n",
    "     # Getter\n",
    "    def __getitem__(self,index):    \n",
    "        return self.x[index], self.y[index]\n",
    "    \n",
    "    # Return the length\n",
    "    def __len__(self):\n",
    "        return self.len"
   ]
  },
  {
   "cell_type": "code",
   "execution_count": 372,
   "metadata": {},
   "outputs": [],
   "source": [
    "dataset = Data()"
   ]
  },
  {
   "cell_type": "code",
   "execution_count": 373,
   "metadata": {},
   "outputs": [],
   "source": [
    "train_dl = DataLoader(dataset, batch_size=1, shuffle=True)"
   ]
  },
  {
   "cell_type": "code",
   "execution_count": 358,
   "metadata": {},
   "outputs": [],
   "source": [
    "# class LR():\n",
    "    \n",
    "#     def __init__(self):\n",
    "#         # initialie the weights and bias\n",
    "#         self.w = torch.randn((x.size()[1], 1), requires_grad=True)\n",
    "#         self.b = torch.randn(y.size()[1], requires_grad=True)\n",
    "#         self.Loss = []\n",
    "        \n",
    "#     def forward(self, x):\n",
    "#         return x@self.w + self.b\n",
    "    \n",
    "#     def mse(self, y_true, y_pred):\n",
    "#         diff = y_true - y_pred\n",
    "#         return torch.sum(diff * diff) / diff.numel()\n",
    "    \n",
    "#     def fit(self, train_dl, lr=0.1, epochs=500):\n",
    "        \n",
    "#         for epoch in range(epochs):\n",
    "            \n",
    "#             loss = 0\n",
    "            \n",
    "#             for x, y in train_dl:\n",
    "                \n",
    "#                 # predict the y for a batch \n",
    "#                 y_pred = self.forward(x)\n",
    "                \n",
    "#                 # compute the batch loss and append it into the epoch loss\n",
    "#                 l = self.mse(y, y_pred)\n",
    "#                 loss += l.item()\n",
    "                \n",
    "#                 # backpropagate the loss\n",
    "#                 l.backward()\n",
    "#                 self.w -= lr*self.w.grad\n",
    "#                 self.b -= lr*self.b.grad\n",
    "\n",
    "#                 self.w.grad.zero_()\n",
    "#                 self.b.grad.zero_()\n",
    "                \n",
    "#             self.Loss.append(loss/len(train_dl))\n",
    "#         return self.Loss\n",
    "                \n",
    "    \n",
    "        \n",
    "        "
   ]
  },
  {
   "cell_type": "code",
   "execution_count": 360,
   "metadata": {},
   "outputs": [],
   "source": []
  },
  {
   "cell_type": "code",
   "execution_count": 374,
   "metadata": {},
   "outputs": [],
   "source": []
  },
  {
   "cell_type": "code",
   "execution_count": 375,
   "metadata": {},
   "outputs": [
    {
     "data": {
      "text/plain": [
       "[<matplotlib.lines.Line2D at 0x7f554db79198>]"
      ]
     },
     "execution_count": 375,
     "metadata": {},
     "output_type": "execute_result"
    },
    {
     "data": {
      "image/png": "[encoded data removed]",
      "text/plain": [
       "<Figure size 432x288 with 1 Axes>"
      ]
     },
     "metadata": {
      "needs_background": "light"
     },
     "output_type": "display_data"
    }
   ],
   "source": []
  },
  {
   "cell_type": "code",
   "execution_count": 349,
   "metadata": {},
   "outputs": [
    {
     "data": {
      "text/plain": [
       "28"
      ]
     },
     "execution_count": 349,
     "metadata": {},
     "output_type": "execute_result"
    }
   ],
   "source": [
    "len(train_dl)"
   ]
  },
  {
   "cell_type": "code",
   "execution_count": null,
   "metadata": {},
   "outputs": [],
   "source": []
  }
 ],
 "metadata": {
  "kernelspec": {
   "display_name": "Python 3",
   "language": "python",
   "name": "python3"
  },
  "language_info": {
   "codemirror_mode": {
    "name": "ipython",
    "version": 3
   },
   "file_extension": ".py",
   "mimetype": "text/x-python",
   "name": "python",
   "nbconvert_exporter": "python",
   "pygments_lexer": "ipython3",
   "version": "3.6.8"
  }
 },
 "nbformat": 4,
 "nbformat_minor": 2
}
