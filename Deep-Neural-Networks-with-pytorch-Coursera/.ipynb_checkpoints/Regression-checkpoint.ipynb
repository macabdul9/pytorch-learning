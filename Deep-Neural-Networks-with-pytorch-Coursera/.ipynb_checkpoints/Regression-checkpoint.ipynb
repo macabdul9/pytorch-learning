{
 "cells": [
  {
   "cell_type": "code",
   "execution_count": 141,
   "metadata": {},
   "outputs": [],
   "source": [
    "import torch\n",
    "import numpy as np"
   ]
  },
  {
   "cell_type": "code",
   "execution_count": 2,
   "metadata": {},
   "outputs": [],
   "source": [
    "w  = torch.tensor(2.0, requires_grad=True)\n",
    "b = torch.tensor(1.0, requires_grad=True)"
   ]
  },
  {
   "cell_type": "code",
   "execution_count": 3,
   "metadata": {},
   "outputs": [],
   "source": [
    "def forward(x):\n",
    "    y_hat =w*x + b\n",
    "    return  y_hat "
   ]
  },
  {
   "cell_type": "code",
   "execution_count": 4,
   "metadata": {},
   "outputs": [],
   "source": [
    "x = torch.tensor(1.0)"
   ]
  },
  {
   "cell_type": "code",
   "execution_count": 5,
   "metadata": {},
   "outputs": [
    {
     "data": {
      "text/plain": [
       "tensor(3., grad_fn=<AddBackward0>)"
      ]
     },
     "execution_count": 5,
     "metadata": {},
     "output_type": "execute_result"
    }
   ],
   "source": [
    "forward(x)"
   ]
  },
  {
   "cell_type": "markdown",
   "metadata": {},
   "source": [
    "### Pytorch model"
   ]
  },
  {
   "cell_type": "code",
   "execution_count": 214,
   "metadata": {},
   "outputs": [],
   "source": [
    "from torch.nn import Linear"
   ]
  },
  {
   "cell_type": "code",
   "execution_count": 215,
   "metadata": {},
   "outputs": [],
   "source": [
    "model = Linear(in_features=1, out_features=1)"
   ]
  },
  {
   "cell_type": "code",
   "execution_count": 216,
   "metadata": {},
   "outputs": [
    {
     "name": "stdout",
     "output_type": "stream",
     "text": [
      "[Parameter containing:\n",
      "tensor([[-0.6457]], requires_grad=True), Parameter containing:\n",
      "tensor([-0.1409], requires_grad=True)]\n"
     ]
    }
   ],
   "source": [
    "print(list(model.parameters()))"
   ]
  },
  {
   "cell_type": "code",
   "execution_count": 217,
   "metadata": {},
   "outputs": [],
   "source": [
    "x = torch.tensor([[0.0], [1.0]])"
   ]
  },
  {
   "cell_type": "code",
   "execution_count": 218,
   "metadata": {},
   "outputs": [
    {
     "data": {
      "text/plain": [
       "tensor([[-0.1409],\n",
       "        [-0.7867]], grad_fn=<AddmmBackward>)"
      ]
     },
     "execution_count": 218,
     "metadata": {},
     "output_type": "execute_result"
    }
   ],
   "source": [
    "model(x)"
   ]
  },
  {
   "cell_type": "code",
   "execution_count": 219,
   "metadata": {},
   "outputs": [
    {
     "data": {
      "text/plain": [
       "torch.device"
      ]
     },
     "execution_count": 219,
     "metadata": {},
     "output_type": "execute_result"
    }
   ],
   "source": [
    "torch.device"
   ]
  },
  {
   "cell_type": "markdown",
   "metadata": {},
   "source": [
    "### Linear Regression using PyTorch custom Module"
   ]
  },
  {
   "cell_type": "code",
   "execution_count": 220,
   "metadata": {},
   "outputs": [],
   "source": [
    "import torch.nn as nn"
   ]
  },
  {
   "cell_type": "code",
   "execution_count": 221,
   "metadata": {},
   "outputs": [],
   "source": [
    "class LR(nn.Module):\n",
    "    \n",
    "    def __init__(self, in_size, out_size):\n",
    "        super(LR, self).__init__()\n",
    "        self.linear = nn.Linear(in_features=in_size, out_features=out_size)\n",
    "    \n",
    "    def forward(self, x):\n",
    "        y_hat = self.linear(x)\n",
    "        return y_hat"
   ]
  },
  {
   "cell_type": "code",
   "execution_count": 222,
   "metadata": {},
   "outputs": [],
   "source": [
    "model = LR(1, 1)"
   ]
  },
  {
   "cell_type": "code",
   "execution_count": 223,
   "metadata": {},
   "outputs": [
    {
     "data": {
      "text/plain": [
       "tensor([[-0.5171],\n",
       "        [-1.0127]], grad_fn=<AddmmBackward>)"
      ]
     },
     "execution_count": 223,
     "metadata": {},
     "output_type": "execute_result"
    }
   ],
   "source": [
    "model.forward(x)"
   ]
  },
  {
   "cell_type": "code",
   "execution_count": 224,
   "metadata": {},
   "outputs": [
    {
     "data": {
      "text/plain": [
       "[Parameter containing:\n",
       " tensor([[-0.4956]], requires_grad=True), Parameter containing:\n",
       " tensor([-0.5171], requires_grad=True)]"
      ]
     },
     "execution_count": 224,
     "metadata": {},
     "output_type": "execute_result"
    }
   ],
   "source": [
    "list(model.parameters())"
   ]
  },
  {
   "cell_type": "code",
   "execution_count": null,
   "metadata": {},
   "outputs": [],
   "source": [
    "model.sa"
   ]
  },
  {
   "cell_type": "code",
   "execution_count": 17,
   "metadata": {},
   "outputs": [],
   "source": [
    "# changing the model params\n",
    "model.state_dict()['linear.weight'].data[0] = torch.tensor([0.5314])\n",
    "model.state_dict()['linear.bias'].data[0]  = torch.tensor([0.123])"
   ]
  },
  {
   "cell_type": "code",
   "execution_count": 209,
   "metadata": {},
   "outputs": [
    {
     "data": {
      "text/plain": [
       "[Parameter containing:\n",
       " tensor([[0.5314]], requires_grad=True), Parameter containing:\n",
       " tensor([0.1230], requires_grad=True)]"
      ]
     },
     "execution_count": 209,
     "metadata": {},
     "output_type": "execute_result"
    }
   ],
   "source": [
    "list(model.parameters())"
   ]
  },
  {
   "cell_type": "code",
   "execution_count": 19,
   "metadata": {},
   "outputs": [],
   "source": [
    "x= torch.tensor([[1.0], [2.0]])"
   ]
  },
  {
   "cell_type": "code",
   "execution_count": 20,
   "metadata": {},
   "outputs": [
    {
     "data": {
      "text/plain": [
       "tensor([[0.6544],\n",
       "        [1.1858]], grad_fn=<AddmmBackward>)"
      ]
     },
     "execution_count": 20,
     "metadata": {},
     "output_type": "execute_result"
    }
   ],
   "source": [
    "model(x)"
   ]
  },
  {
   "cell_type": "code",
   "execution_count": 21,
   "metadata": {},
   "outputs": [
    {
     "data": {
      "text/plain": [
       "tensor([[0.6544],\n",
       "        [1.1858]], grad_fn=<AddmmBackward>)"
      ]
     },
     "execution_count": 21,
     "metadata": {},
     "output_type": "execute_result"
    }
   ],
   "source": [
    "model.forward(x)"
   ]
  },
  {
   "cell_type": "code",
   "execution_count": 22,
   "metadata": {},
   "outputs": [],
   "source": [
    "# both do the same shit"
   ]
  },
  {
   "cell_type": "code",
   "execution_count": 23,
   "metadata": {},
   "outputs": [
    {
     "name": "stdout",
     "output_type": "stream",
     "text": [
      "OrderedDict([('linear.weight', tensor([[0.5314]])), ('linear.bias', tensor([0.1230]))])\n"
     ]
    }
   ],
   "source": [
    "print(model.state_dict())"
   ]
  },
  {
   "cell_type": "markdown",
   "metadata": {},
   "source": [
    "### Gradient Descent and Loss"
   ]
  },
  {
   "cell_type": "code",
   "execution_count": 24,
   "metadata": {},
   "outputs": [],
   "source": [
    "import matplotlib.pyplot as plt"
   ]
  },
  {
   "cell_type": "code",
   "execution_count": 60,
   "metadata": {},
   "outputs": [],
   "source": [
    "w = torch.tensor(10., requires_grad=True)"
   ]
  },
  {
   "cell_type": "code",
   "execution_count": 61,
   "metadata": {},
   "outputs": [],
   "source": [
    "x = torch.arange(-3, 3,  0.1).view(-1, 1)"
   ]
  },
  {
   "cell_type": "code",
   "execution_count": 62,
   "metadata": {},
   "outputs": [
    {
     "data": {
      "text/plain": [
       "torch.Size([60, 1])"
      ]
     },
     "execution_count": 62,
     "metadata": {},
     "output_type": "execute_result"
    }
   ],
   "source": [
    "x.shape"
   ]
  },
  {
   "cell_type": "code",
   "execution_count": 63,
   "metadata": {},
   "outputs": [],
   "source": [
    "f = -3*x"
   ]
  },
  {
   "cell_type": "code",
   "execution_count": 64,
   "metadata": {},
   "outputs": [
    {
     "data": {
      "image/png": "[encoded data removed]",
      "text/plain": [
       "<Figure size 432x288 with 1 Axes>"
      ]
     },
     "metadata": {
      "needs_background": "light"
     },
     "output_type": "display_data"
    }
   ],
   "source": [
    "plt.plot(x.numpy(), f.numpy());"
   ]
  },
  {
   "cell_type": "code",
   "execution_count": 65,
   "metadata": {},
   "outputs": [],
   "source": [
    "y = f + 0.1*torch.randn(x.size())"
   ]
  },
  {
   "cell_type": "code",
   "execution_count": 66,
   "metadata": {},
   "outputs": [
    {
     "data": {
      "image/png": "[encoded data removed]",
      "text/plain": [
       "<Figure size 432x288 with 1 Axes>"
      ]
     },
     "metadata": {
      "needs_background": "light"
     },
     "output_type": "display_data"
    }
   ],
   "source": [
    "plt.plot(x.numpy(), y.numpy(), 'ro');"
   ]
  },
  {
   "cell_type": "code",
   "execution_count": 72,
   "metadata": {},
   "outputs": [],
   "source": [
    "# The class for plotting\n",
    "\n",
    "class plot_diagram():\n",
    "    \n",
    "    # Constructor\n",
    "    def __init__(self, X, Y, w, stop, go = False):\n",
    "        start = w.data\n",
    "        self.error = []\n",
    "        self.parameter = []\n",
    "        self.X = X.numpy()\n",
    "        self.Y = Y.numpy()\n",
    "        self.parameter_values = torch.arange(start, stop)\n",
    "        self.Loss_function = [criterion(forward(X), Y) for w.data in self.parameter_values] \n",
    "        w.data = start\n",
    "        \n",
    "    # Executor\n",
    "    def __call__(self, Yhat, w, error, n):\n",
    "        self.error.append(error)\n",
    "        self.parameter.append(w.data)\n",
    "        plt.subplot(212)\n",
    "        plt.plot(self.X, Yhat.detach().numpy())\n",
    "        plt.plot(self.X, self.Y,'ro')\n",
    "        plt.xlabel(\"A\")\n",
    "        plt.ylim(-20, 20)\n",
    "        plt.subplot(211)\n",
    "        plt.title(\"Data Space (top) Estimated Line (bottom) Iteration \" + str(n))\n",
    "        plt.plot(self.parameter_values.numpy(), self.Loss_function)   \n",
    "        plt.plot(self.parameter, self.error, 'ro')\n",
    "        plt.xlabel(\"B\")\n",
    "        plt.figure()\n",
    "    \n",
    "    # Destructor\n",
    "    def __del__(self):\n",
    "        plt.close('all')"
   ]
  },
  {
   "cell_type": "code",
   "execution_count": 74,
   "metadata": {},
   "outputs": [],
   "source": [
    "# gradient_plot = plot_diagram(x, y, w, stop = 5)"
   ]
  },
  {
   "cell_type": "code",
   "execution_count": 75,
   "metadata": {},
   "outputs": [],
   "source": [
    "lr = 0.01"
   ]
  },
  {
   "cell_type": "code",
   "execution_count": 76,
   "metadata": {},
   "outputs": [],
   "source": [
    "def criterion(yhat, y):\n",
    "    return torch.mean((yhat - y) ** 2)"
   ]
  },
  {
   "cell_type": "code",
   "execution_count": 77,
   "metadata": {},
   "outputs": [],
   "source": [
    "Loss = []\n",
    "for i in range(100): \n",
    "    yhat = forward(x)\n",
    "    loss  = criterion(yhat, y)\n",
    "    loss.backward()\n",
    "    Loss.append(loss.item())\n",
    "    # plot the diagram for us to have a better idea\n",
    "#     gradient_plot(yhat, w, loss.item(), i)\n",
    "    w.data = w.data - lr*w.grad.data\n",
    "    w.grad.data.zero_()"
   ]
  },
  {
   "cell_type": "code",
   "execution_count": 78,
   "metadata": {},
   "outputs": [],
   "source": [
    "yhat = forward(x)"
   ]
  },
  {
   "cell_type": "code",
   "execution_count": 79,
   "metadata": {},
   "outputs": [
    {
     "data": {
      "image/png": "[encoded data removed]",
      "text/plain": [
       "<Figure size 432x288 with 1 Axes>"
      ]
     },
     "metadata": {
      "needs_background": "light"
     },
     "output_type": "display_data"
    }
   ],
   "source": [
    "plt.plot(Loss);"
   ]
  },
  {
   "cell_type": "code",
   "execution_count": 80,
   "metadata": {},
   "outputs": [
    {
     "data": {
      "text/plain": [
       "1.0423840284347534"
      ]
     },
     "execution_count": 80,
     "metadata": {},
     "output_type": "execute_result"
    }
   ],
   "source": [
    "Loss[-1]"
   ]
  },
  {
   "cell_type": "markdown",
   "metadata": {},
   "source": [
    "# Linear Regression"
   ]
  },
  {
   "cell_type": "code",
   "execution_count": 82,
   "metadata": {},
   "outputs": [],
   "source": [
    "from sklearn.datasets import load_boston"
   ]
  },
  {
   "cell_type": "code",
   "execution_count": 85,
   "metadata": {},
   "outputs": [],
   "source": [
    "boston = load_boston()"
   ]
  },
  {
   "cell_type": "code",
   "execution_count": 152,
   "metadata": {},
   "outputs": [],
   "source": [
    "x = boston.data\n",
    "y = boston.target"
   ]
  },
  {
   "cell_type": "code",
   "execution_count": 153,
   "metadata": {},
   "outputs": [
    {
     "name": "stdout",
     "output_type": "stream",
     "text": [
      "(506, 13) (506,)\n"
     ]
    }
   ],
   "source": [
    "print(x.shape, y.shape)"
   ]
  },
  {
   "cell_type": "code",
   "execution_count": 155,
   "metadata": {},
   "outputs": [],
   "source": [
    "x = torch.from_numpy(x)\n",
    "y = torch.from_numpy(y)"
   ]
  },
  {
   "cell_type": "code",
   "execution_count": 156,
   "metadata": {},
   "outputs": [],
   "source": [
    "# print(x[:5], y[:5])"
   ]
  },
  {
   "cell_type": "code",
   "execution_count": 199,
   "metadata": {},
   "outputs": [],
   "source": [
    "class BostonLR():\n",
    "    \n",
    "    def __init__(self, in_size, out_size):\n",
    "        \n",
    "        self.w = torch.randn((13, 1), dtype=x.dtype, requires_grad=True)\n",
    "        self.b = torch.randn((1, 1), dtype=x.dtype, requires_grad=True)\n",
    "        \n",
    "        self.Loss = []\n",
    "    \n",
    "    def forward(self, x):\n",
    "        return torch.matmul(x, self.w) + self.b\n",
    "    \n",
    "    def criterion(self, yhat, y):\n",
    "        return torch.mean((yhat - y) ** 2)\n",
    "    \n",
    "    def fit(self, x, y, lr=0.01, max_itr=100):\n",
    "        \n",
    "        for epoch in range(max_itr):\n",
    "            yhat = self.forward(x)\n",
    "            loss = self.criterion(yhat, y)\n",
    "            loss.backward()\n",
    "            \n",
    "            print(self.w.data)\n",
    "            self.w.data = self.w.data - lr*self.w.grad.data\n",
    "            self.b.data = self.b.data - lr*self.b.grad.data\n",
    "            \n",
    "            self.Loss.append(loss.item())\n",
    "            \n",
    "            self.w.grad.data.zero_()\n",
    "            self.w.grad.data.zero_()\n",
    "        \n",
    "        return Loss\n",
    "    \n",
    "            \n",
    "    \n",
    "    \n",
    "        "
   ]
  },
  {
   "cell_type": "code",
   "execution_count": 203,
   "metadata": {},
   "outputs": [],
   "source": [
    "bostonLR = BostonLR(x.shape[1], y.shape[0])"
   ]
  },
  {
   "cell_type": "code",
   "execution_count": 204,
   "metadata": {},
   "outputs": [
    {
     "name": "stdout",
     "output_type": "stream",
     "text": [
      "tensor([[-2.2600],\n",
      "        [ 0.3895],\n",
      "        [ 1.5558],\n",
      "        [-0.1331],\n",
      "        [-1.0750],\n",
      "        [-1.3496],\n",
      "        [ 0.2944],\n",
      "        [ 0.0384],\n",
      "        [-1.2435],\n",
      "        [-1.0381],\n",
      "        [-0.1192],\n",
      "        [-0.0134],\n",
      "        [ 1.3006]], dtype=torch.float64)\n",
      "tensor([[4.8565e+01],\n",
      "        [7.0056e+01],\n",
      "        [1.1263e+02],\n",
      "        [4.1286e-01],\n",
      "        [3.8862e+00],\n",
      "        [5.1148e+01],\n",
      "        [6.2788e+02],\n",
      "        [2.8209e+01],\n",
      "        [1.0907e+02],\n",
      "        [4.0630e+03],\n",
      "        [1.5968e+02],\n",
      "        [2.8706e+03],\n",
      "        [1.2139e+02]], dtype=torch.float64)\n",
      "tensor([[-2.5003e+05],\n",
      "        [-5.3788e+05],\n",
      "        [-6.6530e+05],\n",
      "        [-3.7298e+03],\n",
      "        [-3.1184e+04],\n",
      "        [-3.4116e+05],\n",
      "        [-3.9137e+06],\n",
      "        [-1.9472e+05],\n",
      "        [-6.1180e+05],\n",
      "        [-2.4267e+07],\n",
      "        [-1.0208e+06],\n",
      "        [-1.9414e+07],\n",
      "        [-7.3283e+05]], dtype=torch.float64)\n",
      "tensor([[1.5393e+09],\n",
      "        [3.4166e+09],\n",
      "        [4.1469e+09],\n",
      "        [2.3467e+07],\n",
      "        [1.9520e+08],\n",
      "        [2.1414e+09],\n",
      "        [2.4473e+10],\n",
      "        [1.2279e+09],\n",
      "        [3.7954e+09],\n",
      "        [1.5135e+11],\n",
      "        [6.3988e+09],\n",
      "        [1.2220e+11],\n",
      "        [4.5746e+09]], dtype=torch.float64)\n",
      "tensor([[-9.6228e+12],\n",
      "        [-2.1409e+13],\n",
      "        [-2.5949e+13],\n",
      "        [-1.4694e+11],\n",
      "        [-1.2218e+12],\n",
      "        [-1.3407e+13],\n",
      "        [-1.5317e+14],\n",
      "        [-7.6902e+12],\n",
      "        [-2.3741e+13],\n",
      "        [-9.4710e+14],\n",
      "        [-4.0057e+13],\n",
      "        [-7.6521e+14],\n",
      "        [-2.8628e+13]], dtype=torch.float64)\n",
      "tensor([[6.0227e+16],\n",
      "        [1.3402e+17],\n",
      "        [1.6242e+17],\n",
      "        [9.1980e+14],\n",
      "        [7.6478e+15],\n",
      "        [8.3919e+16],\n",
      "        [9.5877e+17],\n",
      "        [4.8138e+16],\n",
      "        [1.4859e+17],\n",
      "        [5.9282e+18],\n",
      "        [2.5073e+17],\n",
      "        [4.7899e+18],\n",
      "        [1.7919e+17]], dtype=torch.float64)\n",
      "tensor([[-3.7698e+20],\n",
      "        [-8.3887e+20],\n",
      "        [-1.0167e+21],\n",
      "        [-5.7574e+18],\n",
      "        [-4.7870e+19],\n",
      "        [-5.2528e+20],\n",
      "        [-6.0013e+21],\n",
      "        [-3.0131e+20],\n",
      "        [-9.3010e+20],\n",
      "        [-3.7106e+22],\n",
      "        [-1.5694e+21],\n",
      "        [-2.9982e+22],\n",
      "        [-1.1216e+21]], dtype=torch.float64)\n",
      "tensor([[2.3596e+24],\n",
      "        [5.2508e+24],\n",
      "        [6.3636e+24],\n",
      "        [3.6037e+22],\n",
      "        [2.9964e+23],\n",
      "        [3.2879e+24],\n",
      "        [3.7564e+25],\n",
      "        [1.8860e+24],\n",
      "        [5.8218e+24],\n",
      "        [2.3226e+26],\n",
      "        [9.8237e+24],\n",
      "        [1.8767e+26],\n",
      "        [7.0206e+24]], dtype=torch.float64)\n",
      "tensor([[-1.4770e+28],\n",
      "        [-3.2867e+28],\n",
      "        [-3.9832e+28],\n",
      "        [-2.2557e+26],\n",
      "        [-1.8755e+27],\n",
      "        [-2.0580e+28],\n",
      "        [-2.3513e+29],\n",
      "        [-1.1805e+28],\n",
      "        [-3.6441e+28],\n",
      "        [-1.4538e+30],\n",
      "        [-6.1490e+28],\n",
      "        [-1.1747e+30],\n",
      "        [-4.3945e+28]], dtype=torch.float64)\n",
      "tensor([[9.2450e+31],\n",
      "        [2.0573e+32],\n",
      "        [2.4932e+32],\n",
      "        [1.4119e+30],\n",
      "        [1.1740e+31],\n",
      "        [1.2882e+32],\n",
      "        [1.4718e+33],\n",
      "        [7.3894e+31],\n",
      "        [2.2810e+32],\n",
      "        [9.1000e+33],\n",
      "        [3.8489e+32],\n",
      "        [7.3527e+33],\n",
      "        [2.7507e+32]], dtype=torch.float64)\n",
      "tensor([[-5.7868e+35],\n",
      "        [-1.2877e+36],\n",
      "        [-1.5606e+36],\n",
      "        [-8.8378e+33],\n",
      "        [-7.3483e+34],\n",
      "        [-8.0633e+35],\n",
      "        [-9.2123e+36],\n",
      "        [-4.6253e+35],\n",
      "        [-1.4277e+36],\n",
      "        [-5.6960e+37],\n",
      "        [-2.4092e+36],\n",
      "        [-4.6023e+37],\n",
      "        [-1.7217e+36]], dtype=torch.float64)\n",
      "tensor([[3.6222e+39],\n",
      "        [8.0602e+39],\n",
      "        [9.7684e+39],\n",
      "        [5.5319e+37],\n",
      "        [4.5996e+38],\n",
      "        [5.0471e+39],\n",
      "        [5.7663e+40],\n",
      "        [2.8952e+39],\n",
      "        [8.9368e+39],\n",
      "        [3.5653e+41],\n",
      "        [1.5080e+40],\n",
      "        [2.8808e+41],\n",
      "        [1.0777e+40]], dtype=torch.float64)\n",
      "tensor([[-2.2672e+43],\n",
      "        [-5.0452e+43],\n",
      "        [-6.1144e+43],\n",
      "        [-3.4626e+41],\n",
      "        [-2.8790e+42],\n",
      "        [-3.1592e+43],\n",
      "        [-3.6093e+44],\n",
      "        [-1.8122e+43],\n",
      "        [-5.5939e+43],\n",
      "        [-2.2317e+45],\n",
      "        [-9.4390e+43],\n",
      "        [-1.8032e+45],\n",
      "        [-6.7457e+43]], dtype=torch.float64)\n",
      "tensor([[1.4192e+47],\n",
      "        [3.1580e+47],\n",
      "        [3.8272e+47],\n",
      "        [2.1674e+45],\n",
      "        [1.8021e+46],\n",
      "        [1.9774e+47],\n",
      "        [2.2592e+48],\n",
      "        [1.1343e+47],\n",
      "        [3.5014e+47],\n",
      "        [1.3969e+49],\n",
      "        [5.9082e+47],\n",
      "        [1.1287e+49],\n",
      "        [4.2224e+47]], dtype=torch.float64)\n",
      "tensor([[-8.8830e+50],\n",
      "        [-1.9767e+51],\n",
      "        [-2.3956e+51],\n",
      "        [-1.3566e+49],\n",
      "        [-1.1280e+50],\n",
      "        [-1.2378e+51],\n",
      "        [-1.4141e+52],\n",
      "        [-7.1001e+50],\n",
      "        [-2.1917e+51],\n",
      "        [-8.7436e+52],\n",
      "        [-3.6982e+51],\n",
      "        [-7.0648e+52],\n",
      "        [-2.6429e+51]], dtype=torch.float64)\n",
      "tensor([[5.5602e+54],\n",
      "        [1.2373e+55],\n",
      "        [1.4995e+55],\n",
      "        [8.4917e+52],\n",
      "        [7.0605e+53],\n",
      "        [7.7475e+54],\n",
      "        [8.8515e+55],\n",
      "        [4.4442e+54],\n",
      "        [1.3718e+55],\n",
      "        [5.4730e+56],\n",
      "        [2.3148e+55],\n",
      "        [4.4221e+56],\n",
      "        [1.6543e+55]], dtype=torch.float64)\n",
      "tensor([[-3.4803e+58],\n",
      "        [-7.7446e+58],\n",
      "        [-9.3859e+58],\n",
      "        [-5.3153e+56],\n",
      "        [-4.4195e+57],\n",
      "        [-4.8495e+58],\n",
      "        [-5.5405e+59],\n",
      "        [-2.7818e+58],\n",
      "        [-8.5868e+58],\n",
      "        [-3.4257e+60],\n",
      "        [-1.4489e+59],\n",
      "        [-2.7680e+60],\n",
      "        [-1.0355e+59]], dtype=torch.float64)\n",
      "tensor([[2.1785e+62],\n",
      "        [4.8476e+62],\n",
      "        [5.8750e+62],\n",
      "        [3.3270e+60],\n",
      "        [2.7663e+61],\n",
      "        [3.0355e+62],\n",
      "        [3.4680e+63],\n",
      "        [1.7412e+62],\n",
      "        [5.3748e+62],\n",
      "        [2.1443e+64],\n",
      "        [9.0694e+62],\n",
      "        [1.7326e+64],\n",
      "        [6.4816e+62]], dtype=torch.float64)\n",
      "tensor([[-1.3636e+66],\n",
      "        [-3.0343e+66],\n",
      "        [-3.6774e+66],\n",
      "        [-2.0825e+64],\n",
      "        [-1.7315e+65],\n",
      "        [-1.9000e+66],\n",
      "        [-2.1708e+67],\n",
      "        [-1.0899e+66],\n",
      "        [-3.3643e+66],\n",
      "        [-1.3422e+68],\n",
      "        [-5.6769e+66],\n",
      "        [-1.0845e+68],\n",
      "        [-4.0570e+66]], dtype=torch.float64)\n",
      "tensor([[8.5352e+69],\n",
      "        [1.8993e+70],\n",
      "        [2.3018e+70],\n",
      "        [1.3035e+68],\n",
      "        [1.0838e+69],\n",
      "        [1.1893e+70],\n",
      "        [1.3588e+71],\n",
      "        [6.8220e+69],\n",
      "        [2.1058e+70],\n",
      "        [8.4013e+71],\n",
      "        [3.5534e+70],\n",
      "        [6.7881e+71],\n",
      "        [2.5395e+70]], dtype=torch.float64)\n"
     ]
    }
   ],
   "source": [
    "l = bostonLR.fit(x, y, max_itr=20)"
   ]
  },
  {
   "cell_type": "code",
   "execution_count": 205,
   "metadata": {},
   "outputs": [
    {
     "data": {
      "text/plain": [
       "[<matplotlib.lines.Line2D at 0x7f0dad1f6358>]"
      ]
     },
     "execution_count": 205,
     "metadata": {},
     "output_type": "execute_result"
    },
    {
     "data": {
      "image/png": "[encoded data removed]",
      "text/plain": [
       "<Figure size 432x288 with 1 Axes>"
      ]
     },
     "metadata": {
      "needs_background": "light"
     },
     "output_type": "display_data"
    }
   ],
   "source": [
    "plt.plot(l)"
   ]
  },
  {
   "cell_type": "code",
   "execution_count": 207,
   "metadata": {},
   "outputs": [
    {
     "data": {
      "text/plain": [
       "tensor([24.0000, 21.6000, 34.7000, 33.4000, 36.2000], dtype=torch.float64)"
      ]
     },
     "execution_count": 207,
     "metadata": {},
     "output_type": "execute_result"
    }
   ],
   "source": [
    "y[:5]"
   ]
  },
  {
   "cell_type": "code",
   "execution_count": 208,
   "metadata": {},
   "outputs": [
    {
     "data": {
      "text/plain": [
       "tensor([[-3.3059e+78],\n",
       "        [-3.0335e+78],\n",
       "        [-3.0003e+78],\n",
       "        [-2.8893e+78],\n",
       "        [-2.9065e+78]], dtype=torch.float64, grad_fn=<SliceBackward>)"
      ]
     },
     "execution_count": 208,
     "metadata": {},
     "output_type": "execute_result"
    }
   ],
   "source": [
    "bostonLR.forward(x)[:5]"
   ]
  },
  {
   "cell_type": "code",
   "execution_count": null,
   "metadata": {},
   "outputs": [],
   "source": []
  }
 ],
 "metadata": {
  "kernelspec": {
   "display_name": "Python 3",
   "language": "python",
   "name": "python3"
  },
  "language_info": {
   "codemirror_mode": {
    "name": "ipython",
    "version": 3
   },
   "file_extension": ".py",
   "mimetype": "text/x-python",
   "name": "python",
   "nbconvert_exporter": "python",
   "pygments_lexer": "ipython3",
   "version": "3.6.8"
  }
 },
 "nbformat": 4,
 "nbformat_minor": 2
}
